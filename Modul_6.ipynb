{
  "nbformat": 4,
  "nbformat_minor": 0,
  "metadata": {
    "colab": {
      "provenance": [],
      "collapsed_sections": [
        "La_obCfB920G",
        "GB3xRWBF_Tal",
        "WoYEgGBwAXNs",
        "lbuFWoXcBgR7",
        "vw23Sw1tCzBL",
        "EikfJwaZG2WS",
        "QgGwxGI2H-hS",
        "QV6G0IxWIeUZ",
        "1WnPtHKJLsYg",
        "b0RGU-ssNrdn",
        "y5JoFJP2OKoW",
        "yDMg8WvVPi4P",
        "JFuRLUrgRphd",
        "GQKApcwsTFcV"
      ],
      "authorship_tag": "ABX9TyO9OxU1bkuQTFs6N5r0Zk/p",
      "include_colab_link": true
    },
    "kernelspec": {
      "name": "python3",
      "display_name": "Python 3"
    },
    "language_info": {
      "name": "python"
    }
  },
  "cells": [
    {
      "cell_type": "markdown",
      "metadata": {
        "id": "view-in-github",
        "colab_type": "text"
      },
      "source": [
        "<a href=\"https://colab.research.google.com/github/kevinardani/PBO/blob/main/Modul_6.ipynb\" target=\"_parent\"><img src=\"https://colab.research.google.com/assets/colab-badge.svg\" alt=\"Open In Colab\"/></a>"
      ]
    },
    {
      "cell_type": "markdown",
      "source": [
        "##Modul 6 Perulangan\n",
        "    Perulangan(looping) merupakan salah satu metode\n",
        "    control flow (aliran kontrol) di bahasa\n",
        "    pemrograman Python berdasarkan iterasi yang ditentukan"
      ],
      "metadata": {
        "id": "VM0x95h69e81"
      }
    },
    {
      "cell_type": "markdown",
      "source": [
        "###6.3.1 Program for dengan fungsi range"
      ],
      "metadata": {
        "id": "La_obCfB920G"
      }
    },
    {
      "cell_type": "code",
      "execution_count": null,
      "metadata": {
        "colab": {
          "base_uri": "https://localhost:8080/"
        },
        "id": "GZn4eVm59Xj7",
        "outputId": "d7fd9eb8-e5b4-4c66-d225-8bc78169e32f"
      },
      "outputs": [
        {
          "output_type": "stream",
          "name": "stdout",
          "text": [
            "No 1\n",
            "10\n",
            "11\n",
            "12\n",
            "13\n",
            "14\n",
            "16\n",
            "17\n",
            "18\n",
            "19\n",
            "--------\n",
            "No 2\n",
            "10\n",
            "11\n",
            "12\n",
            "13\n",
            "14\n"
          ]
        }
      ],
      "source": [
        "print('No 1')\n",
        "for i in range (10, 20):\n",
        "  # skip jika i == 15\n",
        "  if (i == 15):\n",
        "          continue\n",
        "  print(i)\n",
        "print('-' * 8)\n",
        "print('No 2')\n",
        "for i in range(10, 20):\n",
        "  # skip jika i == 15\n",
        " #hentikan jika i == 15\n",
        " if (i == 15):\n",
        "    break\n",
        " print(i)\n",
        "\n"
      ]
    },
    {
      "cell_type": "markdown",
      "source": [
        "####//--ANALISA--//\n",
        "Pada program No 1 diatas pada bagian\n",
        "```\n",
        "skip jika i == 15\n",
        "```\n",
        "pada codingan itu kita mengisi parameter range dengan nilai 10, 20\n",
        "jadi ketika dia akan di angka 15 maka angka tersebut akan di lewati,\n",
        "dilewati dikarenakan terdapat perintah\n",
        "```\n",
        "\"CONTINUE\"\n",
        "```\n",
        "Pada program No 2 diatas pada bagian\n",
        "```\n",
        "hentikan jika i == 15\n",
        "```\n",
        "pada codingan tersebut akan berhenti jika akan menyentu angka 15\n",
        "berhenti dikarenakan terdapat perintah\n",
        "```\n",
        "\"BREAK\"\n",
        "```"
      ],
      "metadata": {
        "id": "M1LLSfWQTupu"
      }
    },
    {
      "cell_type": "markdown",
      "source": [
        "###6.3.2 Program Fibonacci non Rekursif"
      ],
      "metadata": {
        "id": "GB3xRWBF_Tal"
      }
    },
    {
      "cell_type": "code",
      "source": [
        "panjang = int(input('Masukkan panjang deret: '))\n",
        "fibo = [0, 1]\n",
        "for i in range(2, panjang):\n",
        "  print(f'deret ke {(i + 1)}')\n",
        "for i in range(2, panjang):\n",
        "  angka1 = fibo[i -2]\n",
        "  angka2 = fibo[i -1]\n",
        "  angkaSelanjutnya = angka1 + angka2\n",
        "  fibo.append(angkaSelanjutnya)\n",
        "print(fibo)"
      ],
      "metadata": {
        "colab": {
          "base_uri": "https://localhost:8080/"
        },
        "id": "aAfXrbPV_Xsd",
        "outputId": "0ad6763f-4bd7-4fff-97f8-f51c1bf46a7d"
      },
      "execution_count": null,
      "outputs": [
        {
          "output_type": "stream",
          "name": "stdout",
          "text": [
            "Masukkan panjang deret: 7\n",
            "deret ke 3\n",
            "deret ke 4\n",
            "deret ke 5\n",
            "deret ke 6\n",
            "deret ke 7\n",
            "[0, 1, 1, 2, 3, 5, 8]\n"
          ]
        }
      ]
    },
    {
      "cell_type": "markdown",
      "source": [
        "####//--ANALISA--//\n",
        "Program diatas meminta kita untuk memasukkan panjang deret suatu nilai\n",
        "nilai dimulai dari angka 2 dan berakhiran angka 7\n"
      ],
      "metadata": {
        "id": "rkA7IzcQYm-b"
      }
    },
    {
      "cell_type": "markdown",
      "source": [
        "###6.3.3Program fibonacci non rekursif dengan variabel bantuan"
      ],
      "metadata": {
        "id": "WoYEgGBwAXNs"
      }
    },
    {
      "cell_type": "code",
      "source": [
        "panjang = int(input('Masukkan panjang deret: '))\n",
        "angka1, angka2 = 0, 1\n",
        "for i in range(panjang):\n",
        "  if (i < 2):\n",
        "    print(i, end='')\n",
        "  else:\n",
        "    angkaSekarang = angka1 + angka2\n",
        "    print(angkaSekarang, end='')\n",
        "\n",
        "    angka1 = angka2\n",
        "    angka2 = angkaSekarang"
      ],
      "metadata": {
        "id": "PTCdsuLeERqK",
        "colab": {
          "base_uri": "https://localhost:8080/"
        },
        "outputId": "b5afb61b-6f2c-43e1-9c2f-c86d80a91276"
      },
      "execution_count": null,
      "outputs": [
        {
          "output_type": "stream",
          "name": "stdout",
          "text": [
            "Masukkan panjang deret: 7\n",
            "0112358"
          ]
        }
      ]
    },
    {
      "cell_type": "markdown",
      "source": [
        "####//--ANALISA--//\n",
        "Pada program diatas menggunakan fibonacci non rekursif dengan\n",
        "variabel bantuan\n",
        "\n",
        "pada program di atas saya menginputkan angka deret 7\n",
        "dimulai dari angka 0 dan berakhir dengan angka 7"
      ],
      "metadata": {
        "id": "4xcMwtNwaF8K"
      }
    },
    {
      "cell_type": "markdown",
      "source": [
        "###6.3.5 Program Bilangan prima"
      ],
      "metadata": {
        "id": "lbuFWoXcBgR7"
      }
    },
    {
      "cell_type": "code",
      "source": [
        "def is_prima (x):\n",
        "  for i in range(2, x):\n",
        "    if x % i == 0:\n",
        "      return False\n",
        "  return True\n",
        "def cari_bilangan_prima (awal, akhir):\n",
        "  list_bilangan_prima = []\n",
        "  for x in range(awal, akhir + 1):\n",
        "    if is_prima(x):\n",
        "      list_bilangan_prima.append(x)\n",
        "  return list_bilangan_prima\n",
        "print(cari_bilangan_prima(1, 40))\n",
        "print(cari_bilangan_prima(100, 150))\n",
        "print(cari_bilangan_prima(1050, 1100))"
      ],
      "metadata": {
        "id": "0psK0zeuDafT",
        "colab": {
          "base_uri": "https://localhost:8080/"
        },
        "outputId": "ae09acb5-8def-49f5-d761-925d19890837"
      },
      "execution_count": null,
      "outputs": [
        {
          "output_type": "stream",
          "name": "stdout",
          "text": [
            "[1, 2, 3, 5, 7, 11, 13, 17, 19, 23, 29, 31, 37]\n",
            "[101, 103, 107, 109, 113, 127, 131, 137, 139, 149]\n",
            "[1051, 1061, 1063, 1069, 1087, 1091, 1093, 1097]\n"
          ]
        }
      ]
    },
    {
      "cell_type": "markdown",
      "source": [
        "####//--ANALISA--//\n",
        "pada program diatas akan mencari bilangan prima dari angka 1 - 1100"
      ],
      "metadata": {
        "id": "82rsckg7f9Nv"
      }
    },
    {
      "cell_type": "markdown",
      "source": [
        "###6.3.6 Program menentukan pilihan tampilan bilangan ganjil/genap"
      ],
      "metadata": {
        "id": "vw23Sw1tCzBL"
      }
    },
    {
      "cell_type": "code",
      "source": [
        "print('Masukkan nilai awal dan nilai akhir')\n",
        "nilai_awal = int(input(' nilai awal: '))\n",
        "nilai_akhir = int(input(' nilai akhir: '))\n",
        "print(\"\"\"\\nTampilkan bilangan\n",
        "1. Ganjil\n",
        "2. Genap\"\"\")\n",
        "pilihan = int(input('Pilihan: '))\n",
        "# periksa kalau pilihan bukan 1 dan 2\n",
        "if pilihan not in [1, 2]:\n",
        "  print('Pilihan salah')\n",
        "else:\n",
        "  for x in range(nilai_awal, nilai_akhir + 1):\n",
        "    if pilihan == 1 and x % 2 == 1:\n",
        "      print(x, end='')\n",
        "    elif pilihan == 2 and x % 2 == 0:\n",
        "      print(x, end='')\n",
        "  else:\n",
        "    # ganti baris ketika perulangan selesai\n",
        "    print('')"
      ],
      "metadata": {
        "id": "6eGyp2_qDcDD",
        "colab": {
          "base_uri": "https://localhost:8080/"
        },
        "outputId": "f0497187-262c-48cc-ac85-c6942a271be2"
      },
      "execution_count": null,
      "outputs": [
        {
          "output_type": "stream",
          "name": "stdout",
          "text": [
            "Masukkan nilai awal dan nilai akhir\n",
            " nilai awal: 50\n",
            " nilai akhir: 82\n",
            "\n",
            "Tampilkan bilangan\n",
            "1. Ganjil\n",
            "2. Genap\n",
            "Pilihan: 2\n",
            "5052545658606264666870727476788082\n"
          ]
        }
      ]
    },
    {
      "cell_type": "markdown",
      "source": [
        "####//--ANALISA--//\n",
        "pada program di atas mencari nilai awal dan nilai akhir\n",
        "dari pilihan angka genap"
      ],
      "metadata": {
        "id": "vltytEx4g4xH"
      }
    },
    {
      "cell_type": "markdown",
      "source": [
        "###6.3.7 Program menghitung bilangan berpangkat dengan for"
      ],
      "metadata": {
        "id": "EikfJwaZG2WS"
      }
    },
    {
      "cell_type": "code",
      "source": [
        "bilangan = int(input('Masukkan bilangan: '))\n",
        "pangkat = int(input('Masukkan pangkat: '))\n",
        "def hitung_pangkat(bilangan, pangkat): #def dijalankan ketika digunakan\n",
        "  if pangkat > 1:\n",
        "    return bilangan * hitung_pangkat(bilangan,pangkat -1) #rekursif\n",
        "  return bilangan #terminasi\n",
        "hasil = hitung_pangkat(bilangan, pangkat)\n",
        "print(f'Hasil = {hasil}')    #format"
      ],
      "metadata": {
        "colab": {
          "base_uri": "https://localhost:8080/"
        },
        "id": "PgI6GoNxG85K",
        "outputId": "5c99438c-933b-4ebd-be2e-bfcb8ca1593c"
      },
      "execution_count": null,
      "outputs": [
        {
          "output_type": "stream",
          "name": "stdout",
          "text": [
            "Masukkan bilangan: 5\n",
            "Masukkan pangkat: 3\n",
            "Hasil = 125\n"
          ]
        }
      ]
    },
    {
      "cell_type": "markdown",
      "source": [
        "####//--ANALISA--//\n",
        "pada program diatas mencari bilangan pangkat dari 5 pangkat 3 tergantung inputan dari user"
      ],
      "metadata": {
        "id": "WYmDE5DrJRuh"
      }
    },
    {
      "cell_type": "markdown",
      "source": [
        "###6.3.8 Program menghitung factorial dengan for"
      ],
      "metadata": {
        "id": "QgGwxGI2H-hS"
      }
    },
    {
      "cell_type": "code",
      "source": [
        "n = int(input('Masukkan nilai n: '))\n",
        "faktorial = 1\n",
        "for i in range(2, n + 1):\n",
        "  faktorial *=i\n",
        "print(f'{n}! = {faktorial}')"
      ],
      "metadata": {
        "colab": {
          "base_uri": "https://localhost:8080/"
        },
        "id": "NJ3yyIsgIECq",
        "outputId": "2ccd3cc6-8f60-47f6-f9ba-e0d6c68465e0"
      },
      "execution_count": null,
      "outputs": [
        {
          "output_type": "stream",
          "name": "stdout",
          "text": [
            "Masukkan nilai n: 6\n",
            "6! = 720\n"
          ]
        }
      ]
    },
    {
      "cell_type": "markdown",
      "source": [
        "#### Mencari nilai dari factorial"
      ],
      "metadata": {
        "id": "RuaeGvHyikbm"
      }
    },
    {
      "cell_type": "markdown",
      "source": [
        "###6.3.9 Program menentukan bilangan terbesar dan terkecil dari deret bilangan dengan for"
      ],
      "metadata": {
        "id": "QV6G0IxWIeUZ"
      }
    },
    {
      "cell_type": "code",
      "source": [
        "def nilai_maksimal(deret_bilangan):\n",
        "  nilai_terbesar = deret_bilangan[0]\n",
        "  for nilai in deret_bilangan:\n",
        "    if nilai > nilai_terbesar:\n",
        "      nilai_terbesar = nilai\n",
        "  return nilai_terbesar\n",
        "def nilai_minimal(deret_bilangan):\n",
        "  nilai_terkecil = deret_bilangan[0]\n",
        "  for nilai in deret_bilangan:\n",
        "    if nilai < nilai_terkecil:\n",
        "      nilai_terkecil = nilai\n",
        "  return nilai_terkecil\n",
        "a = [3, 20, 100, -35, 50]\n",
        "print(a)\n",
        "print('Nilai terbesar: ', nilai_maksimal(a))\n",
        "print('Nilai terkecil: ', nilai_minimal(a))\n"
      ],
      "metadata": {
        "colab": {
          "base_uri": "https://localhost:8080/"
        },
        "id": "5BCp0NlqImaZ",
        "outputId": "5b3c099a-2ed1-404d-9978-80087a6e4e42"
      },
      "execution_count": null,
      "outputs": [
        {
          "output_type": "stream",
          "name": "stdout",
          "text": [
            "[3, 20, 100, -35, 50]\n",
            "Nilai terbesar:  100\n",
            "Nilai terkecil:  -35\n"
          ]
        }
      ]
    },
    {
      "cell_type": "markdown",
      "source": [
        "####pada program ini akan mencari nilai bilangan terbesar dan\n",
        "terkecil dari bilangan berderet pada program"
      ],
      "metadata": {
        "id": "bfERM0Lhip6f"
      }
    },
    {
      "cell_type": "markdown",
      "source": [
        "###6.3.10 Program menghitung huruf vocal"
      ],
      "metadata": {
        "id": "1WnPtHKJLsYg"
      }
    },
    {
      "cell_type": "code",
      "source": [
        "teks = input('Tuliskan teks: ').lower()\n",
        "huruf_vokal = {\n",
        "    'a': 0,\n",
        "    'i': 0,\n",
        "    'u': 0,\n",
        "    'e': 0,\n",
        "    'o': 0\n",
        "}\n",
        "\n",
        "total_huruf_vokal = 0\n",
        "\n",
        "for karakter in teks:\n",
        "  if karakter in ['a', 'i', 'u', 'e', 'o']:\n",
        "    huruf_vokal[karakter] += 1\n",
        "    total_huruf_vokal += 1\n",
        "print(f'Total karakter: {len(teks)}')\n",
        "print(f'Total huruf vokal: {total_huruf_vokal}')\n",
        "print(f\"\"\"\\\n",
        "    a -> {huruf_vokal['a']}\n",
        "    i -> {huruf_vokal['i']}\n",
        "    u -> {huruf_vokal['u']}\n",
        "    e -> {huruf_vokal['e']}\n",
        "    o -> {huruf_vokal['o']}\\\n",
        "    \"\"\")"
      ],
      "metadata": {
        "colab": {
          "base_uri": "https://localhost:8080/"
        },
        "id": "R4JvdyTULyEQ",
        "outputId": "34e09c17-a68f-462a-a478-c974b36f41ce"
      },
      "execution_count": null,
      "outputs": [
        {
          "output_type": "stream",
          "name": "stdout",
          "text": [
            "Tuliskan teks: apa saja\n",
            "Total karakter: 8\n",
            "Total huruf vokal: 4\n",
            "    a -> 4\n",
            "    i -> 0\n",
            "    u -> 0\n",
            "    e -> 0\n",
            "    o -> 0    \n"
          ]
        }
      ]
    },
    {
      "cell_type": "markdown",
      "source": [
        "####//--ANALISA--//\n",
        "mencari huruf vokal yang terdapat pada program"
      ],
      "metadata": {
        "id": "QWX7fZOni0Ee"
      }
    },
    {
      "cell_type": "markdown",
      "source": [
        "###6.3.11 Program pengganti huruf vokal"
      ],
      "metadata": {
        "id": "b0RGU-ssNrdn"
      }
    },
    {
      "cell_type": "code",
      "source": [
        "teks = input('Ketik sesuatu: ')\n",
        "pengganti = input('Masukkan pengganti huruf vokal: ')\n",
        "for huruf in 'aiueoAIUEO':\n",
        "  teks = teks.replace(huruf, pengganti)\n",
        "print(f'\\n{teks}')"
      ],
      "metadata": {
        "colab": {
          "base_uri": "https://localhost:8080/"
        },
        "id": "jUKPKclFNwIv",
        "outputId": "e6f28396-a90f-4356-ca42-d84845eea5c9"
      },
      "execution_count": null,
      "outputs": [
        {
          "output_type": "stream",
          "name": "stdout",
          "text": [
            "Ketik sesuatu: uwow\n",
            "Masukkan pengganti huruf vokal: cbd\n",
            "\n",
            "cbdwcbdw\n"
          ]
        }
      ]
    },
    {
      "cell_type": "markdown",
      "source": [
        "###6.3.12 Program mencari tahun kabisat"
      ],
      "metadata": {
        "id": "y5JoFJP2OKoW"
      }
    },
    {
      "cell_type": "code",
      "source": [
        "def apakah_kabisat (tahun):\n",
        "  habis_dibagi_400 = tahun % 400 == 0\n",
        "  habis_dibagi_100 = tahun % 100 == 0\n",
        "  habis_dibagi_4 = tahun % 4 == 0\n",
        "  return habis_dibagi_400 or (habis_dibagi_4 and not habis_dibagi_100)\n",
        "tahun_awal = int(input('Masukkan tahun awal: '))\n",
        "tahun_akhir = int(input('Masukkan tahun akhir: '))\n",
        "tahun_kabisat = []\n",
        "for tahun in range(tahun_awal, tahun_akhir + 1):\n",
        "  if apakah_kabisat(tahun):\n",
        "    tahun_kabisat.append(tahun)\n",
        "print('Tahun kabisat: ')\n",
        "print(tahun_kabisat)"
      ],
      "metadata": {
        "colab": {
          "base_uri": "https://localhost:8080/"
        },
        "id": "jM-9wjaQOPzO",
        "outputId": "19f572cf-343b-4a51-c916-364e8e664c36"
      },
      "execution_count": null,
      "outputs": [
        {
          "output_type": "stream",
          "name": "stdout",
          "text": [
            "Masukkan tahun awal: 2003\n",
            "Masukkan tahun akhir: 2019\n",
            "Tahun kabisat: \n",
            "[2004, 2008, 2012, 2016]\n"
          ]
        }
      ]
    },
    {
      "cell_type": "markdown",
      "source": [
        "####//--ANALISA--//\n",
        "pada program di atas mencari tahun kabisat dari tahun 2003 - 2019"
      ],
      "metadata": {
        "id": "sCeN7D0ggjCX"
      }
    },
    {
      "cell_type": "markdown",
      "source": [
        "###6.3.13 Program Tebak angka terbatas"
      ],
      "metadata": {
        "id": "yDMg8WvVPi4P"
      }
    },
    {
      "cell_type": "code",
      "source": [
        "import random\n",
        "angka_rahasia = random.randint(1, 100)\n",
        "print('=' * 40)\n",
        "print('Kami telah memiliki angka, silakan tebak!')\n",
        "print('=' * 40)\n",
        "batas_percobaan = 20\n",
        "for percobaan in range(batas_percobaan):\n",
        "  jawaban = int(input(f'\\n[Percobaan {percobaan + 1}] Masukkan angka: '))\n",
        "  if jawaban == angka_rahasia:\n",
        "    print('Selamat, tabakanmu benar!')\n",
        "    break\n",
        "  else:\n",
        "    print(\n",
        "        'Tebakanmu terlalu',\n",
        "        'kecil' if jawaban < angka_rahasia else 'besar'\n",
        "    )\n",
        "else:\n",
        "  print(f'\\nSayang sekali, kamu sudah salah menebak sebanyak {batas_percobaan}x!')"
      ],
      "metadata": {
        "colab": {
          "base_uri": "https://localhost:8080/"
        },
        "id": "0v0VyO-MPnhm",
        "outputId": "5ff8589b-4418-41ab-dffc-b4c5f151423b"
      },
      "execution_count": null,
      "outputs": [
        {
          "output_type": "stream",
          "name": "stdout",
          "text": [
            "========================================\n",
            "Kami telah memiliki angka, silakan tebak!\n",
            "========================================\n",
            "\n",
            "[Percobaan 1] Masukkan angka: 30\n",
            "Tebakanmu terlalu besar\n",
            "\n",
            "[Percobaan 2] Masukkan angka: 25\n",
            "Tebakanmu terlalu besar\n",
            "\n",
            "[Percobaan 3] Masukkan angka: 15\n",
            "Tebakanmu terlalu besar\n",
            "\n",
            "[Percobaan 4] Masukkan angka: 8\n",
            "Tebakanmu terlalu kecil\n",
            "\n",
            "[Percobaan 5] Masukkan angka: 10\n",
            "Tebakanmu terlalu kecil\n",
            "\n",
            "[Percobaan 6] Masukkan angka: 11\n",
            "Tebakanmu terlalu kecil\n",
            "\n",
            "[Percobaan 7] Masukkan angka: 15\n",
            "Tebakanmu terlalu besar\n",
            "\n",
            "[Percobaan 8] Masukkan angka: 14\n",
            "Tebakanmu terlalu besar\n",
            "\n",
            "[Percobaan 9] Masukkan angka: 13\n",
            "Tebakanmu terlalu besar\n",
            "\n",
            "[Percobaan 10] Masukkan angka: 12\n",
            "Selamat, tabakanmu benar!\n"
          ]
        }
      ]
    },
    {
      "cell_type": "markdown",
      "source": [
        "###6.3.14 Program tebak angka tak terbatas"
      ],
      "metadata": {
        "id": "JFuRLUrgRphd"
      }
    },
    {
      "cell_type": "code",
      "source": [
        "import random\n",
        "angka_rahasia = random.randint(1, 100)\n",
        "print('=' * 40)\n",
        "print('Kami telah memiliki angka, silakan tebak!')\n",
        "print('=' * 40)\n",
        "while True:\n",
        "  jawaban = int(input('\\nMasukkan angka: '))\n",
        "  if jawaban == angka_rahasia:\n",
        "    print('Selamat, tebakanmu benar!')\n",
        "    break\n",
        "  else:\n",
        "    print(\n",
        "        'Tebakanmu terlalu'\n",
        "        'kecil' if jawaban < angka_rahasia else 'besar'\n",
        "    )"
      ],
      "metadata": {
        "colab": {
          "base_uri": "https://localhost:8080/"
        },
        "id": "LyV2-RpMRvUs",
        "outputId": "69c8f0b5-23b2-4852-e447-14ea3c3b66bc"
      },
      "execution_count": null,
      "outputs": [
        {
          "output_type": "stream",
          "name": "stdout",
          "text": [
            "========================================\n",
            "Kami telah memiliki angka, silakan tebak!\n",
            "========================================\n",
            "\n",
            "Masukkan angka: 20\n",
            "besar\n",
            "\n",
            "Masukkan angka: 10\n",
            "besar\n",
            "\n",
            "Masukkan angka: 6\n",
            "Selamat, tebakanmu benar!\n"
          ]
        }
      ]
    },
    {
      "cell_type": "markdown",
      "source": [
        "###6.4 Latihan Dan Tugas"
      ],
      "metadata": {
        "id": "GQKApcwsTFcV"
      }
    },
    {
      "cell_type": "code",
      "source": [
        "def hitung_luas_persegi_panjang():\n",
        "    panjang = float(input(\"Masukkan panjang: \"))\n",
        "    lebar = float(input(\"Masukkan lebar: \"))\n",
        "    luas = panjang * lebar\n",
        "    print(\"Luas persegi panjang:\", luas)\n",
        "\n",
        "def hitung_luas_persegi():\n",
        "    sisi = float(input(\"Masukkan panjang sisi: \"))\n",
        "    luas = sisi * sisi\n",
        "    print(\"Luas persegi:\", luas)\n",
        "\n",
        "def hitung_luas_segitiga():\n",
        "    alas = float(input(\"Masukkan panjang alas: \"))\n",
        "    tinggi = float(input(\"Masukkan tinggi: \"))\n",
        "    luas = 0.5 * alas * tinggi\n",
        "    print(\"Luas segitiga:\", luas)\n",
        "\n",
        "def hitung_luas_trapesium():\n",
        "    sisi_a = float(input(\"Masukkan panjang sisi atas: \"))\n",
        "    sisi_b = float(input(\"Masukkan panjang sisi bawah: \"))\n",
        "    tinggi = float(input(\"Masukkan tinggi: \"))\n",
        "    luas = 0.5 * (sisi_a + sisi_b) * tinggi\n",
        "    print(\"Luas trapesium:\", luas)\n",
        "\n",
        "def hitung_luas_lingkaran():\n",
        "    radius = float(input(\"Masukkan jari-jari: \"))\n",
        "    luas = 3.14 * radius * radius\n",
        "    print(\"Luas lingkaran:\", luas)\n",
        "\n",
        "def main():\n",
        "    pilihan_valid = ['1', '2', '3', '4', '5']\n",
        "\n",
        "    for _ in range(999):  # Menetapkan jumlah iterasi yang cukup besar\n",
        "        print(\"Program perhitungan luas bangun datar\")\n",
        "        print(\"  1. Persegi Panjang\")\n",
        "        print(\"  2. Persegi\")\n",
        "        print(\"  3. Segitiga\")\n",
        "        print(\"  4. Trapesium\")\n",
        "        print(\"  5. Lingkaran\")\n",
        "        pilihan = input(\"Silahkan masukkan pilihan yang akan anda hitung (pilih 1-5): \")\n",
        "\n",
        "        if pilihan in pilihan_valid:\n",
        "            if pilihan == '1':\n",
        "                hitung_luas_persegi_panjang()\n",
        "            elif pilihan == '2':\n",
        "                hitung_luas_persegi()\n",
        "            elif pilihan == '3':\n",
        "                hitung_luas_segitiga()\n",
        "            elif pilihan == '4':\n",
        "                hitung_luas_trapesium()\n",
        "            elif pilihan == '5':\n",
        "                hitung_luas_lingkaran()\n",
        "        else:\n",
        "            print(\"Pilihan yang anda masukkan salah, silahkan masukkan angka 1-5\")\n",
        "\n",
        "        lanjut = input(\"Apakah anda mau menghitung luas yang lain? (Y/N): \")\n",
        "        if lanjut.upper() != 'Y':\n",
        "            break\n",
        "\n",
        "main()"
      ],
      "metadata": {
        "colab": {
          "base_uri": "https://localhost:8080/"
        },
        "id": "Ijx0jyV7hoFX",
        "outputId": "b72d962a-184d-463d-d530-907fc0ab7525"
      },
      "execution_count": null,
      "outputs": [
        {
          "name": "stdout",
          "output_type": "stream",
          "text": [
            "Program perhitungan luas bangun datar\n",
            "  1. Persegi Panjang\n",
            "  2. Persegi\n",
            "  3. Segitiga\n",
            "  4. Trapesium\n",
            "  5. Lingkaran\n",
            "Silahkan masukkan pilihan yang akan anda hitung (pilih 1-5): 2\n",
            "Masukkan panjang sisi: 5\n",
            "Luas persegi: 25.0\n",
            "Apakah anda mau menghitung luas yang lain? (Y/N): n\n"
          ]
        }
      ]
    }
  ]
}