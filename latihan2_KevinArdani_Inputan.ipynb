{
  "nbformat": 4,
  "nbformat_minor": 0,
  "metadata": {
    "colab": {
      "provenance": [],
      "collapsed_sections": [
        "VyaWzUvsB3yo",
        "vLW1dMfqFsI4",
        "0mlkLzA-JksA",
        "-M-lPuPZLFJn",
        "Ft3CUmgXL9jX",
        "51mResEPM4sg",
        "ir73hchyNnCP",
        "WbX_9mOYOBoN",
        "GSENOmiCBVSF",
        "vEoCCXiIBoDX"
      ],
      "authorship_tag": "ABX9TyN5iCVYoBhzwrEIa/3e+Mp7",
      "include_colab_link": true
    },
    "kernelspec": {
      "name": "python3",
      "display_name": "Python 3"
    },
    "language_info": {
      "name": "python"
    }
  },
  "cells": [
    {
      "cell_type": "markdown",
      "metadata": {
        "id": "view-in-github",
        "colab_type": "text"
      },
      "source": [
        "<a href=\"https://colab.research.google.com/github/kevinardani/PBO/blob/main/latihan2_KevinArdani_Inputan.ipynb\" target=\"_parent\"><img src=\"https://colab.research.google.com/assets/colab-badge.svg\" alt=\"Open In Colab\"/></a>"
      ]
    },
    {
      "cell_type": "markdown",
      "source": [
        "#4.3.1 Program identitas Mahasiswa "
      ],
      "metadata": {
        "id": "VyaWzUvsB3yo"
      }
    },
    {
      "cell_type": "code",
      "source": [
        "nama_mhs = str(input('Masukan Nama Anda = '))\n",
        "nim_mhs = str(input('Masukan NIM Anda = '))\n",
        "kelas_mhs = str(input('Masukan Kelas Anda = '))\n",
        "umur = str(input('Masukan Umur Anda ='))\n",
        "\n",
        "print('')\n",
        "print('')\n",
        "tampilInfoMhs = 'Detail dari Informasi Anda..\\n\\nNama Anda Adalah : '+nama_mhs+'\\nNim Anda Adalah : '+nim_mhs+'\\nAnda berada dikelas :'+kelas_mhs+'\\nBerumur : '+umur\n",
        "print(tampilInfoMhs)\n",
        "print('Nama Anda Adalah {} dengan nim {} bernama {} dan berumur {}'\n",
        ".format(nama_mhs, nim_mhs, kelas_mhs, umur)) \n",
        "\n"
      ],
      "metadata": {
        "colab": {
          "base_uri": "https://localhost:8080/"
        },
        "id": "V9ihs44HB-YH",
        "outputId": "7c058847-c36c-40ef-a68b-7156114be8d1"
      },
      "execution_count": null,
      "outputs": [
        {
          "output_type": "stream",
          "name": "stdout",
          "text": [
            "Masukan Nama Anda = 20\n",
            "Masukan NIM Anda = 11\n",
            "Masukan Kelas Anda = 12\n",
            "Masukan Umur Anda =12\n",
            "\n",
            "\n",
            "Detail dari Informasi Anda..\n",
            "\n",
            "Nama Anda Adalah : 20\n",
            "Nim Anda Adalah : 11\n",
            "Anda berada dikelas :12\n",
            "Berumur : 12\n",
            "Nama Anda Adalah 20 dengan nim 11 bernama 12 dan berumur 12\n"
          ]
        }
      ]
    },
    {
      "cell_type": "markdown",
      "source": [
        "pada program diatas terdapat variabel dengan nama_mhs, nim_mhs, kelas_mhs, umur \n",
        "menggunakan tipe data string dan menggunakan inputan"
      ],
      "metadata": {
        "id": "N4_fUae2WbVi"
      }
    },
    {
      "cell_type": "markdown",
      "source": [
        "#4.3.2 Program Input Bilangan 3 buah bilangan bulat "
      ],
      "metadata": {
        "id": "vLW1dMfqFsI4"
      }
    },
    {
      "cell_type": "code",
      "source": [
        "bil1 = int(input('Masukan Bilangan ke-1 = '))\n",
        "bil2 = int(input('Masukan Bilangan ke-2 = '))\n",
        "bil3 = int(input('Masukan Bilangan ke-3 = '))\n",
        "print('')\n",
        "jumlah = bil1**2 +(bil2/bil3)-bil3\n",
        "print('Hasilnya adalah = ', jumlah)"
      ],
      "metadata": {
        "colab": {
          "base_uri": "https://localhost:8080/"
        },
        "id": "7WIDOI2OFxlS",
        "outputId": "2daf763a-ffa3-4bd0-bb66-066b1cc71758"
      },
      "execution_count": null,
      "outputs": [
        {
          "output_type": "stream",
          "name": "stdout",
          "text": [
            "Masukan Bilangan ke-1 = 20\n",
            "Masukan Bilangan ke-2 = 15\n",
            "Masukan Bilangan ke-3 = 5\n",
            "\n",
            "Hasilnya adalah =  398.0\n"
          ]
        }
      ]
    },
    {
      "cell_type": "markdown",
      "source": [
        "program diatas untuk mencario jumlah dari inputan bilangan ke 1, dan ditambah dari (bil2/bil3) lalu dikurangi - bil3 "
      ],
      "metadata": {
        "id": "dn-zY5dOWr4i"
      }
    },
    {
      "cell_type": "markdown",
      "source": [
        "#4.4.3 Program membuat waktu dan detik"
      ],
      "metadata": {
        "id": "0mlkLzA-JksA"
      }
    },
    {
      "cell_type": "code",
      "source": [
        "v = float(input('Masukan Kecepatan = '))\n",
        "s = int (input('Masukan Jarak yang Ditempuh = '))\n",
        "t = v/s \n",
        "print('')\n",
        "print('Hasilnya adalah = ',t)"
      ],
      "metadata": {
        "colab": {
          "base_uri": "https://localhost:8080/"
        },
        "id": "qafhX6BzKYAv",
        "outputId": "063909b1-c755-4fce-c009-bb41f35bc27d"
      },
      "execution_count": null,
      "outputs": [
        {
          "output_type": "stream",
          "name": "stdout",
          "text": [
            "Masukan Kecepatan = 20\n",
            "Masukan Jarak yang Ditempuh = 80\n",
            "\n",
            "Hasilnya adalah =  0.25\n"
          ]
        }
      ]
    },
    {
      "cell_type": "markdown",
      "source": [
        "pada program diatas untuk membuat program waktu dan detik, dengan membagi kecepatan / jarak tempuh "
      ],
      "metadata": {
        "id": "vWJ6SlBgXCoa"
      }
    },
    {
      "cell_type": "markdown",
      "source": [
        "#4.3.4 Program Buat Sisa Siswa dan Bus "
      ],
      "metadata": {
        "id": "-M-lPuPZLFJn"
      }
    },
    {
      "cell_type": "code",
      "source": [
        "kapasitas = 25\n",
        "jumlah_siswa = int(input('Jumlah Siswa = '))\n",
        "bus = jumlah_siswa//kapasitas \n",
        "sisa = jumlah_siswa%kapasitas\n",
        "print('Bus yang akan digunakan = ', bus)\n",
        "print('Sisa Siswanya adalah = ', sisa)\n"
      ],
      "metadata": {
        "colab": {
          "base_uri": "https://localhost:8080/"
        },
        "id": "pwb2Mo6lLLFo",
        "outputId": "c7c5fa08-4011-4738-e2df-bb62318bf2c6"
      },
      "execution_count": null,
      "outputs": [
        {
          "output_type": "stream",
          "name": "stdout",
          "text": [
            "Jumlah Siswa = 30\n",
            "Bus yang akan digunakan =  1\n",
            "Sisa Siswanya adalah =  5\n"
          ]
        }
      ]
    },
    {
      "cell_type": "markdown",
      "source": [
        "program diatas untuk mencari bus yang akan digunakan untuk siswa"
      ],
      "metadata": {
        "id": "UpLBB6LmXLc6"
      }
    },
    {
      "cell_type": "markdown",
      "source": [
        "#4.3.5 Program Selisih Tahun"
      ],
      "metadata": {
        "id": "Ft3CUmgXL9jX"
      }
    },
    {
      "cell_type": "code",
      "source": [
        "nama_1 = str(input('Nama 1 = '))\n",
        "umur_1 = int(input('Umur 1 = '))\n",
        "nama_2 = str(input('Nama 2 = '))\n",
        "umur_2 = int(input('Umur 2 = '))\n",
        "selisih=umur_1-umur_2\n",
        "print('selisih umur=',selisih)"
      ],
      "metadata": {
        "colab": {
          "base_uri": "https://localhost:8080/"
        },
        "id": "L-XTDuTNMCWI",
        "outputId": "4f601155-a651-498a-f468-96f5538072b2"
      },
      "execution_count": null,
      "outputs": [
        {
          "output_type": "stream",
          "name": "stdout",
          "text": [
            "Nama 1 = Ardan\n",
            "Umur 1 = 19\n",
            "Nama 2 = Sabam\n",
            "Umur 2 = 19\n",
            "selisih umur= 0\n"
          ]
        }
      ]
    },
    {
      "cell_type": "markdown",
      "source": [
        "program diatas untuk mencari selish tahun dari perbandingan 2 mahasiswa "
      ],
      "metadata": {
        "id": "uDNgG7CWXhOK"
      }
    },
    {
      "cell_type": "markdown",
      "source": [
        "#4.3.6 Program Membuat Input Bilangan Bulat "
      ],
      "metadata": {
        "id": "51mResEPM4sg"
      }
    },
    {
      "cell_type": "code",
      "source": [
        "bil1 = int(input('Masukan Bilangan Ke-1 = '))\n",
        "bil2 = int(input('Masukan Bilangan ke-2 = '))\n",
        "print('')\n",
        "print('Dan Hasilnya Adalah..')\n",
        "print('')\n",
        "tambah = bil1 + bil2\n",
        "kali = bil1*bil2\n",
        "print('Hasil tambahnya adalah = ', tambah)\n",
        "print('Hasilnya perkaliannya Adalah = ', kali)"
      ],
      "metadata": {
        "colab": {
          "base_uri": "https://localhost:8080/"
        },
        "id": "FVBtQXmuM91P",
        "outputId": "b9d92943-2e13-4ab4-aefe-9558dbfd6f44"
      },
      "execution_count": null,
      "outputs": [
        {
          "output_type": "stream",
          "name": "stdout",
          "text": [
            "Masukan Bilangan Ke-1 = 8\n",
            "Masukan Bilangan ke-2 = 6\n",
            "\n",
            "Dan Hasilnya Adalah..\n",
            "\n",
            "Hasil tambahnya adalah =  14\n",
            "Hasilnya perkaliannya Adalah =  48\n"
          ]
        }
      ]
    },
    {
      "cell_type": "markdown",
      "source": [
        "Program diatas untuk mencari inputan bilangan bulat"
      ],
      "metadata": {
        "id": "Iu3eOdazXmtD"
      }
    },
    {
      "cell_type": "markdown",
      "source": [
        "#4.3.7 Program Menghitung Volume\n"
      ],
      "metadata": {
        "id": "ir73hchyNnCP"
      }
    },
    {
      "cell_type": "code",
      "source": [
        "r = int(input('jari jari ='))\n",
        "t = int(input('tinggi ='))\n",
        "phi = 3.14\n",
        "volume = 1/3*phi*r**t\n",
        "print('volume', volume)"
      ],
      "metadata": {
        "colab": {
          "base_uri": "https://localhost:8080/"
        },
        "id": "_0-N_TRtNqRW",
        "outputId": "1f335c89-138f-4404-c197-1fb8eb96dd1e"
      },
      "execution_count": null,
      "outputs": [
        {
          "output_type": "stream",
          "name": "stdout",
          "text": [
            "jari jari =46\n",
            "tinggi =21\n",
            "volume 8.66408807890394e+34\n"
          ]
        }
      ]
    },
    {
      "cell_type": "markdown",
      "source": [
        "program diatas untuk mencari volume dari jari jari"
      ],
      "metadata": {
        "id": "sGLPiK8vXrci"
      }
    },
    {
      "cell_type": "markdown",
      "source": [
        "#4.3.8 Program Menghitung Pajak Gaji Karyawan "
      ],
      "metadata": {
        "id": "WbX_9mOYOBoN"
      }
    },
    {
      "cell_type": "code",
      "source": [
        "nama = input('Masuka Nama Anda = ')\n",
        "jabatan = input('Masukan Jabatan Anda = ')\n",
        "gaji = int(input('Masuka Gaji Anda = '))\n",
        "pajak = 10/100*gaji \n",
        "\n",
        "print()\n",
        "print('Pegawai dengan nama', nama, 'dan jabatan', jabatan, '\\ndengan gaji', gaji, 'harus membayar pajak sebesar', pajak)"
      ],
      "metadata": {
        "colab": {
          "base_uri": "https://localhost:8080/"
        },
        "id": "sFdLMtzGOGl-",
        "outputId": "c4a648ee-c6a2-414d-ba1c-e6583f06fd91"
      },
      "execution_count": null,
      "outputs": [
        {
          "output_type": "stream",
          "name": "stdout",
          "text": [
            "Masuka Nama Anda = Ardan\n",
            "Masukan Jabatan Anda = IT Security Analyst\n",
            "Masuka Gaji Anda = 100000000\n",
            "\n",
            "Pegawai dengan nama Ardan dan jabatan IT Security Analyst \n",
            "dengan gaji 100000000 harus membayar pajak sebesar 10000000.0\n"
          ]
        }
      ]
    },
    {
      "cell_type": "markdown",
      "source": [
        "Program diatas untuk menghitung pajak dan gaji karyawan, dengan program gaji dibagi pajak 10%"
      ],
      "metadata": {
        "id": "XZEbOsdeXzka"
      }
    },
    {
      "cell_type": "markdown",
      "source": [
        "#Latihan Input\n",
        "    Buat Algoritma untuk menghitung:\n",
        "    volume bola dengan rumus : v=4/3 (phi * r^3)\n",
        "    x=(-b+2c^2+4ab)/2\n",
        "    m=(a-b)/3ac(1-b/cd)"
      ],
      "metadata": {
        "id": "GSENOmiCBVSF"
      }
    },
    {
      "cell_type": "code",
      "source": [
        "#soal 1\n",
        "r = 7\n",
        "phi = 3.14\n",
        "rumus = 4/3 * phi*r**3\n",
        "print(rumus)"
      ],
      "metadata": {
        "colab": {
          "base_uri": "https://localhost:8080/"
        },
        "id": "iXbqncBsdl7F",
        "outputId": "66cbee35-2f8f-4d00-c537-1198e26723a0"
      },
      "execution_count": null,
      "outputs": [
        {
          "output_type": "stream",
          "name": "stdout",
          "text": [
            "1436.0266666666666\n"
          ]
        }
      ]
    },
    {
      "cell_type": "code",
      "source": [
        "#soal 2\n",
        "a=8 \n",
        "b=5\n",
        "c= 2\n",
        "rumus=(-b+2*c**2+4*a*b)/2\n",
        "print(rumus)\n"
      ],
      "metadata": {
        "colab": {
          "base_uri": "https://localhost:8080/"
        },
        "id": "w1JJA3_MiESl",
        "outputId": "529e8407-7b2e-4571-8e94-41902e5c06b5"
      },
      "execution_count": null,
      "outputs": [
        {
          "output_type": "stream",
          "name": "stdout",
          "text": [
            "81.5\n"
          ]
        }
      ]
    },
    {
      "cell_type": "code",
      "source": [
        "#soal 3\n",
        "a= 8\n",
        "b= 9\n",
        "c= 4\n",
        "d= 3\n",
        "rumus=(a-b)/3*a*c*(1-b/c*d)\n",
        "print(rumus)"
      ],
      "metadata": {
        "colab": {
          "base_uri": "https://localhost:8080/"
        },
        "id": "fSlSBb3FiaQM",
        "outputId": "630a92ac-adb5-4b0c-d8a4-4540621becaa"
      },
      "execution_count": null,
      "outputs": [
        {
          "output_type": "stream",
          "name": "stdout",
          "text": [
            "61.33333333333333\n"
          ]
        }
      ]
    },
    {
      "cell_type": "markdown",
      "source": [
        "#Praktek awal belajar Python with Bu Wendah"
      ],
      "metadata": {
        "id": "vEoCCXiIBoDX"
      }
    },
    {
      "cell_type": "code",
      "source": [
        "print(\"halooo.. saya lagi belajar [python]\")"
      ],
      "metadata": {
        "colab": {
          "base_uri": "https://localhost:8080/"
        },
        "id": "VX5WAvocZJs7",
        "outputId": "59f44cbc-3f0a-4ed7-d59b-8130d6d671a0"
      },
      "execution_count": null,
      "outputs": [
        {
          "output_type": "stream",
          "name": "stdout",
          "text": [
            "halooo.. saya lagi belajar [python]\n"
          ]
        }
      ]
    },
    {
      "cell_type": "code",
      "source": [
        "x=5\n",
        "y=7 \n",
        "z=x+y\n",
        "print(z)\n",
        "print(type(z))"
      ],
      "metadata": {
        "colab": {
          "base_uri": "https://localhost:8080/"
        },
        "id": "ab_7uL30Zfgz",
        "outputId": "def758c2-4348-45b8-a8bb-e6db7cf7199d"
      },
      "execution_count": null,
      "outputs": [
        {
          "output_type": "stream",
          "name": "stdout",
          "text": [
            "12\n",
            "<class 'int'>\n"
          ]
        }
      ]
    },
    {
      "cell_type": "markdown",
      "source": [
        "Latihan untuk operator"
      ],
      "metadata": {
        "id": "Xd29GzyUaZDK"
      }
    },
    {
      "cell_type": "code",
      "source": [
        "x=5\n",
        "y=3\n",
        "z=x**y\n",
        "print(z)"
      ],
      "metadata": {
        "colab": {
          "base_uri": "https://localhost:8080/"
        },
        "id": "_mJmVQbMZ41b",
        "outputId": "f2746273-8e9f-4421-e73c-a338c1f4baad"
      },
      "execution_count": null,
      "outputs": [
        {
          "output_type": "stream",
          "name": "stdout",
          "text": [
            "125\n"
          ]
        }
      ]
    },
    {
      "cell_type": "markdown",
      "source": [
        "Buatlah program untuk menginputkan biodata diri \n"
      ],
      "metadata": {
        "id": "O__1rc1hadZ7"
      }
    },
    {
      "cell_type": "code",
      "source": [
        "nama=input(\"masukan nama anda:\")\n",
        "tlahir=int(input(\"masukkan tahun lahir \"+nama+\";\"))\n",
        "umur=2023-tlahir\n",
        "print(nama +\" Sekarang umur kamu adalah \",umur)"
      ],
      "metadata": {
        "colab": {
          "base_uri": "https://localhost:8080/"
        },
        "id": "EXQWg0V8aslL",
        "outputId": "6e0c1a00-8b47-4ff9-dfc1-15965501c292"
      },
      "execution_count": null,
      "outputs": [
        {
          "output_type": "stream",
          "name": "stdout",
          "text": [
            "masukan nama anda:ardan\n",
            "masukkan tahun lahir ardan;2003\n",
            "ardan Sekarang umur kamu adalah 20\n"
          ]
        }
      ]
    }
  ]
}