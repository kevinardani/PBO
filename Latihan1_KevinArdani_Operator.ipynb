{
  "nbformat": 4,
  "nbformat_minor": 0,
  "metadata": {
    "colab": {
      "provenance": [],
      "collapsed_sections": [
        "yMhVphf-nudd",
        "NMobLGBOscql",
        "-qvxvDFQvM4p",
        "ykkZxGxnymwl",
        "7xIpliuJwcJ-",
        "uwMp5vuMyP03",
        "oFqDlKTi8ar3"
      ],
      "authorship_tag": "ABX9TyPcBuefbcbQBokMkOox8rH7",
      "include_colab_link": true
    },
    "kernelspec": {
      "name": "python3",
      "display_name": "Python 3"
    },
    "language_info": {
      "name": "python"
    }
  },
  "cells": [
    {
      "cell_type": "markdown",
      "metadata": {
        "id": "view-in-github",
        "colab_type": "text"
      },
      "source": [
        "<a href=\"https://colab.research.google.com/github/kevinardani/PBO/blob/main/Latihan1_KevinArdani_Operator.ipynb\" target=\"_parent\"><img src=\"https://colab.research.google.com/assets/colab-badge.svg\" alt=\"Open In Colab\"/></a>"
      ]
    },
    {
      "cell_type": "markdown",
      "source": [
        "#**1. Operator Aritmatika**\n",
        "    Operator Aritmatika adalah operator \n",
        "    yang kita gunakan untuk \n",
        "    menghitung operasi matematika, \n",
        "    mulai dari penjumlahan, pengurangan, \n",
        "    perkalian, perpangkatan\n"
      ],
      "metadata": {
        "id": "yMhVphf-nudd"
      }
    },
    {
      "cell_type": "code",
      "execution_count": null,
      "metadata": {
        "colab": {
          "base_uri": "https://localhost:8080/"
        },
        "id": "UB5qKF-Onkk0",
        "outputId": "dfb72f68-3fcc-4acf-a870-35e1e4a55fed"
      },
      "outputs": [
        {
          "output_type": "stream",
          "name": "stdout",
          "text": [
            "Masukkan bilangan pertama: 8\n",
            "Masukkan bilangan kedua: 4\n",
            "Jumlah 8 + 4 adalah 12.0\n",
            "kurang 8 - 4 adalah 4.0\n",
            "bagi 8 / 4 adalah 2.0\n",
            "kali 8 / 4 adalah 32.0\n",
            "pangkat 8 ** 4 adalah 4096.0\n",
            "modulus 8 % 4 adalah 0.0\n",
            "pembulatan 8 % 4 adalah 2.0\n"
          ]
        }
      ],
      "source": [
        "#1.Operator Aritmatika4\n",
        "bil1 = input('Masukkan bilangan pertama: ')\n",
        "bil2 = input('Masukkan bilangan kedua: ')\n",
        "jumlah = float(bil1) + float(bil2)\n",
        "print('Jumlah {0} + {1} adalah {2}'.format(bil1, bil2, jumlah))\n",
        "kurang=float(bil1) - float(bil2)\n",
        "print('kurang {0} - {1} adalah {2}'.format(bil1, bil2, kurang))\n",
        "bagi = float(bil1) / float(bil2)\n",
        "print('bagi {0} / {1} adalah {2}'.format(bil1, bil2, bagi))\n",
        "kali = float(bil1) * float(bil2)\n",
        "print('kali {0} / {1} adalah {2}'.format(bil1, bil2, kali))\n",
        "pangkat = float(bil1) ** float(bil2)\n",
        "print('pangkat {0} ** {1} adalah {2}'.format(bil1, bil2, pangkat))\n",
        "modulus = float(bil1) % float(bil2)\n",
        "print('modulus {0} % {1} adalah {2}'.format(bil1, bil2, modulus))\n",
        "pembulatan = float(bil1) // float(bil2)\n",
        "print('pembulatan {0} % {1} adalah {2}'.format(bil1, bil2, pembulatan))"
      ]
    },
    {
      "cell_type": "markdown",
      "source": [
        "Analisa kodingan diatas\n",
        "pertama program akan meminta inputan bilangan 1 dan bilangan 2, kemudian program akan meminta mulai dari \n",
        "jumlah bil1 + bil2 \n",
        "kurang bil1 - bil2 \n",
        "bagi bil1 / bil2 \n",
        "kali bil1 * bil2 \n",
        "pangkat bil1 ^ bil2 \n",
        "modulus bil1 % bil2 \n",
        "pembulatan bil1 // bil2 \n",
        " "
      ],
      "metadata": {
        "id": "bPKBBEBYqzct"
      }
    },
    {
      "cell_type": "markdown",
      "source": [
        "#2.**Operator Penugasan**\n",
        "    Operator Penugasa adalah operator\n",
        "    yang digunakan untuk memberikan sebuah \n",
        "    tugas terhadap suatu variabel"
      ],
      "metadata": {
        "id": "NMobLGBOscql"
      }
    },
    {
      "cell_type": "code",
      "source": [
        "#penugasan pertama\n",
        "a = 10 \n",
        "print('a = 10 -> ', a)\n",
        "a += 5 \n",
        "print('a += 5 -> ', a)\n",
        "a -= 3 \n",
        "print('a -= 3 -> ', a)\n",
        "a *= 6 \n",
        "print('a *= 6 -> ', a)\n",
        "a /= 8 \n",
        "print('a /= 8 -> ', a)\n",
        "# karena a jadi float, kita ubah lagi menjadi integer\n",
        "a = int(a)\n",
        "a %= 9 \n",
        "print('a %=9 -> ', a)\n",
        "a //= 6\n",
        "print('a //=6 -> ', a)\n",
        "a **=1 \n",
        "print('a **=1 -> ', a)\n",
        "a &=2 \n",
        "print('a &= 2 -> ', a)"
      ],
      "metadata": {
        "colab": {
          "base_uri": "https://localhost:8080/"
        },
        "id": "Xzd4SjyhsnI1",
        "outputId": "de3801f8-9b44-45ed-ae01-0950d4325e74"
      },
      "execution_count": null,
      "outputs": [
        {
          "output_type": "stream",
          "name": "stdout",
          "text": [
            "a = 10 ->  10\n",
            "a += 5 ->  15\n",
            "a -= 3 ->  12\n",
            "a *= 6 ->  72\n",
            "a /= 8 ->  9.0\n",
            "a %=9 ->  0\n",
            "a //=6 ->  0\n",
            "a **=1 ->  0\n",
            "a &= 2 ->  0\n"
          ]
        }
      ]
    },
    {
      "cell_type": "markdown",
      "source": [
        "program di atas menggunakan operator penugasan, yang dimana program akan berurut dengan hasil dari sebelumya"
      ],
      "metadata": {
        "id": "iEgxks-AvArd"
      }
    },
    {
      "cell_type": "markdown",
      "source": [
        "#3. Operator Logika\n",
        "    Operator logika adalah operator yang\n",
        "    sangant penting. Operator ini sangat\n",
        "    berkaitan dengan operator perbandingan."
      ],
      "metadata": {
        "id": "-qvxvDFQvM4p"
      }
    },
    {
      "cell_type": "code",
      "source": [
        "print(True and True)\n",
        "print(1 + 2 == 3 and True)\n",
        "print('----')\n",
        "print(False or 1 > 5 )\n",
        "print(False or 5 > 2)\n",
        "print('----')\n",
        "print(not(1 > 5))\n",
        "print(not(1 < 5))"
      ],
      "metadata": {
        "colab": {
          "base_uri": "https://localhost:8080/"
        },
        "id": "toq7MTHovan1",
        "outputId": "71c43d79-28af-4990-ccba-67136616d86a"
      },
      "execution_count": null,
      "outputs": [
        {
          "output_type": "stream",
          "name": "stdout",
          "text": [
            "True\n",
            "True\n",
            "----\n",
            "False\n",
            "True\n",
            "----\n",
            "True\n",
            "False\n"
          ]
        }
      ]
    },
    {
      "cell_type": "markdown",
      "source": [
        "Program diatas menggunakan Operator Logika. Operator ini mengembalikan nilai dengan tipe data yang sama yaitu boolean."
      ],
      "metadata": {
        "id": "4n9ro6NOv8TD"
      }
    },
    {
      "cell_type": "markdown",
      "source": [
        "#4. Operator Pembanding\n",
        "    Operator Pembanding digunakan untuk \n",
        "    membandingkan dua buah nilai. Operator \n",
        "    ini juga dikenal dengan operator relasi \n",
        "    dan sering digunakan untuk membuat sebuah \n",
        "    logika dan kondisi.\n"
      ],
      "metadata": {
        "id": "ykkZxGxnymwl"
      }
    },
    {
      "cell_type": "code",
      "source": [
        "a, b=5, 10 \n",
        "print(a, '>', b, '=', a > b)\n",
        "print(a, '<', b, '=', a < b)\n",
        "print(a, '==', b, '=', a == b)\n",
        "print(a, '!=', b, '=', a != b)\n",
        "print(a, '<=', b, '=', a <= b)"
      ],
      "metadata": {
        "colab": {
          "base_uri": "https://localhost:8080/"
        },
        "id": "ZQR15FMWyq3P",
        "outputId": "cfdde793-8d57-46b1-8803-cdb74218f80e"
      },
      "execution_count": null,
      "outputs": [
        {
          "output_type": "stream",
          "name": "stdout",
          "text": [
            "5 > 10 = False\n",
            "5 < 10 = True\n",
            "5 == 10 = False\n",
            "5 != 10 = True\n",
            "5 <= 10 = True\n"
          ]
        }
      ]
    },
    {
      "cell_type": "markdown",
      "source": [
        "Program diatas menggunakan Operator Pembanding dua buah nilai. Operator ini dikenal juga sebagai operator relasi, sering juga digunakan untuk membuat logika dan kondisi"
      ],
      "metadata": {
        "id": "tHorZsW7yyCq"
      }
    },
    {
      "cell_type": "markdown",
      "source": [
        "#5. Operator Keanggotaan \n",
        "    Operator keanggotaan operator khusus\n",
        "    atau sering dinamakan sebagai operator \n",
        "    spesial. Spesial dikarenakan hanya ada \n",
        "    di bahasa Pemrograma Python"
      ],
      "metadata": {
        "id": "7xIpliuJwcJ-"
      }
    },
    {
      "cell_type": "code",
      "source": [
        "perusahaan = 'Microsoft'\n",
        "list_pulau = ['Jawa', 'Sumatra', 'Sulawesi']\n",
        "\n",
        "mahasiswa = { 'nama': 'Lendis Fabri', 'asal': 'Lamongan'}\n",
        "print( \"Apakah 'c' ada di variabel perusahaan?\", 'c' in perusahaan )\n",
        "print( \"Apakah 'z' tidak ada di variabel list_pulau?\", 'Madura' in perusahaan)\n",
        "print( \"Apakah 'Madura' tidak ada di variabel list_pulau?\", 'Madura' not in perusahaan)"
      ],
      "metadata": {
        "colab": {
          "base_uri": "https://localhost:8080/"
        },
        "id": "CXfO5TAXwiq1",
        "outputId": "1eca58a8-6769-4c29-b2ba-b2e92aad11c2"
      },
      "execution_count": null,
      "outputs": [
        {
          "output_type": "stream",
          "name": "stdout",
          "text": [
            "Apakah 'c' ada di variabel perusahaan? True\n",
            "Apakah 'z' tidak ada di variabel list_pulau? False\n",
            "Apakah 'Madura' tidak ada di variabel list_pulau? True\n"
          ]
        }
      ]
    },
    {
      "cell_type": "markdown",
      "source": [
        "Program di atas menggunakan operator khusus, sering juga dinamakan sebagai operator spesial. Disebut spesial dikarenakan hanya ada di bahasa pemrograman python tidak ada di bahasa pemrograman lain"
      ],
      "metadata": {
        "id": "pOaSarnkx13f"
      }
    },
    {
      "cell_type": "markdown",
      "source": [
        "#6. Operator Identitas\n",
        "    Operator Identitas didefinisikan \n",
        "    dengan is dan is not. \n",
        "    Berfungsi untuk mengetahui\n",
        "    apakah dua buah variabel\n",
        "     memiliki nilai yang sama \n",
        "     dan posisi yang sama di dalam memori. "
      ],
      "metadata": {
        "id": "uwMp5vuMyP03"
      }
    },
    {
      "cell_type": "code",
      "source": [
        "a = 5 \n",
        "b = 5 \n",
        "list_a = [1, 2, 3]\n",
        "list_b = [1, 2, 3]\n",
        "nama_a = 'budi'\n",
        "nama_b = 'budi'\n",
        "# output True \n",
        "print('a is b:', a is b)\n",
        "# output False \n",
        "print('a is not b:', a is not b)\n",
        "# output False\n",
        "print('list_a is list_b:', list_a is list_b)\n",
        "# output True \n",
        "print('list_a == list_b:', list_a == list_b)\n",
        "# output True \n",
        "print('nama_a is nama_b:', nama_a is nama_b)\n",
        "# output False\n",
        "print('nama_a is not nama_b:', nama_a is not nama_b)"
      ],
      "metadata": {
        "colab": {
          "base_uri": "https://localhost:8080/"
        },
        "id": "5cKqcnzhzy29",
        "outputId": "e18104c7-0448-4c2d-ba33-4c468f55c295"
      },
      "execution_count": null,
      "outputs": [
        {
          "output_type": "stream",
          "name": "stdout",
          "text": [
            "a is b: True\n",
            "a is not b: False\n",
            "list_a is lis_b: False\n",
            "list_a == list_b: True\n",
            "nama_a is nama_b: True\n",
            "nama_a is not nama_b: False\n"
          ]
        }
      ]
    },
    {
      "cell_type": "markdown",
      "source": [
        "Pada program diatas menggunakan operator identitas,\n",
        "yaitu untuk mengetahui apakah dua buah variabel memiliki nilai yang sama dan posisi yang sama di dalam memori. Sebagai contoh \n",
        "apakah variabel a sama dengan variabel b, jika sama maka akan menghasilkan nilai yang benar"
      ],
      "metadata": {
        "id": "bx4DBQxQPRem"
      }
    },
    {
      "cell_type": "markdown",
      "source": [
        "#7. Operator Bitwise \n",
        "    Operator Ini adalah operator yang \n",
        "    berhubungan dengan angka-angka \n",
        "    biner. Angka Biner adalah angka \n",
        "    0 dan 1. "
      ],
      "metadata": {
        "id": "oFqDlKTi8ar3"
      }
    },
    {
      "cell_type": "code",
      "source": [
        "a = 1\n",
        "b = 64 \n",
        "print('a =', a, '=', format(a, '08b'))\n",
        "print('b =', b, '=', format(b, '08b'), '\\n')\n",
        "print('[and]')\n",
        "print('a & b =', a & b)\n",
        "print(format(a, '08b'), '\\n')\n",
        "print('[or]')\n",
        "print('a | b =', a | b)\n",
        "print(format(a, '08b'),  '|', format(b, '08b'), '=', format(a | b, '08b'), '\\n')\n",
        "print('[xor]')\n",
        "print('a ^ b, =', a ^ b)\n",
        "print(format(a, '08b'),  '^', format(b, '08b'), '^', format(a ^ b, '08b'), '\\n')\n",
        "print('[not]')\n",
        "print('~a ~b =', ~a, ~b)\n",
        "print('~' + format(a, '08b'), '~' + format(b, '08b'), '=', format(~a, '08b'), format(~b, '08b'), '\\n')\n",
        "print('[shift right]')\n",
        "print('a >> b =', a >> b)\n",
        "print(format(a, '08b'), '>>', format(b, '08b'), '=', format(a >> b, '08b'), '\\n')\n",
        "print('[shift left]')\n",
        "print('a << b =', a << b)\n",
        "print(format(a, '08b'), '<<', format(b, '08b'), '=', format(a << b, '08b'), '\\n')\n"
      ],
      "metadata": {
        "colab": {
          "base_uri": "https://localhost:8080/"
        },
        "id": "5yLIN_tJ89kA",
        "outputId": "dacc128b-c025-4e7c-c472-fbaff405832f"
      },
      "execution_count": null,
      "outputs": [
        {
          "output_type": "stream",
          "name": "stdout",
          "text": [
            "a = 1 = 00000001\n",
            "b = 64 = 01000000 \n",
            "\n",
            "[and]\n",
            "a & b = 0\n",
            "00000001 \n",
            "\n",
            "[or]\n",
            "a | b = 65\n",
            "00000001 | 01000000 = 01000001 \n",
            "\n",
            "[xor]\n",
            "a ^ b, = 65\n",
            "00000001 ^ 01000000 ^ 01000001 \n",
            "\n",
            "[not]\n",
            "~a ~b = -2 -65\n",
            "~00000001 ~01000000 = -0000010 -1000001 \n",
            "\n",
            "[shift right]\n",
            "a >> b = 0\n",
            "00000001 >> 01000000 = 00000000 \n",
            "\n",
            "[shift left]\n",
            "a << b = 18446744073709551616\n",
            "00000001 << 01000000 = 10000000000000000000000000000000000000000000000000000000000000000 \n",
            "\n"
          ]
        }
      ]
    },
    {
      "cell_type": "markdown",
      "source": [
        "program tersebut akan menghasilkan ooutput menjadi bilangan biner. Karena menggunakan Operator Bitwise yang berhubungan dengan angka angka biner"
      ],
      "metadata": {
        "id": "9tPXOpCmBAWQ"
      }
    },
    {
      "cell_type": "markdown",
      "source": [
        "#8. Latihan Operator \n",
        "    Buatlah Program dengan menggunakan \n",
        "    operator diatas untuk menghitung nilai Luas \n",
        "    dan keliling dari Bangunan ruang(segitga, persegi \n",
        "    dan persegi panjang)"
      ],
      "metadata": {
        "id": "icBHVyNnR0yF"
      }
    },
    {
      "cell_type": "code",
      "source": [
        "\n",
        "\n",
        "# Segitiga\n",
        "\n",
        "alas = float(input(\"Masukkan panjang alas segitiga: \"))\n",
        "tinggi = float(input(\"Masukkan tinggi segitiga: \"))\n",
        "sisi1 = float(input(\"Masukkan panjang sisi pertama segitiga: \"))\n",
        "sisi2 = float(input(\"Masukkan panjang sisi kedua segitiga: \"))\n",
        "luas = 0.5 * alas * tinggi\n",
        "keliling = alas + sisi1 + sisi2\n",
        "print(' ')\n",
        "print(\"Luas segitiga: \", luas)\n",
        "print(\"Keliling segitiga: \", keliling)\n",
        "\n",
        "\n",
        "# Persegi \n",
        "print(' ')\n",
        "sisi = float(input(\"Masukkan panjang sisi persegi: \"))\n",
        "\n",
        "luas = sisi ** 2\n",
        "keliling = 4 * sisi\n",
        "print(' ')\n",
        "print(\"Luas persegi: \", luas)\n",
        "print(\"Keliling persegi: \", keliling)\n",
        "\n",
        "\n",
        "# Persegi Panjang \n",
        "print(' ')\n",
        "panjang = float(input(\"Masukkan panjang persegi panjang: \"))\n",
        "lebar = float(input(\"Masukkan lebar persegi panjang: \"))\n",
        "\n",
        "luas = panjang * lebar\n",
        "keliling = 2 * (panjang + lebar)\n",
        "print(' ')\n",
        "print(\"Luas persegi panjang: \", luas)\n",
        "print(\"Keliling persegi panjang: \", keliling)"
      ],
      "metadata": {
        "colab": {
          "base_uri": "https://localhost:8080/"
        },
        "id": "y2n_z4pJR3c1",
        "outputId": "0ac4995a-2396-4b22-e990-311b41d8b0fb"
      },
      "execution_count": null,
      "outputs": [
        {
          "output_type": "stream",
          "name": "stdout",
          "text": [
            "Masukkan panjang alas segitiga: 30\n",
            "Masukkan tinggi segitiga: 60\n",
            "Masukkan panjang sisi pertama segitiga: 8\n",
            "Masukkan panjang sisi kedua segitiga: 16\n",
            " \n",
            "Luas segitiga:  900.0\n",
            "Keliling segitiga:  54.0\n",
            " \n",
            "Masukkan panjang sisi persegi: 30\n",
            " \n",
            "Luas persegi:  900.0\n",
            "Keliling persegi:  120.0\n",
            " \n",
            "Masukkan panjang persegi panjang: 15\n",
            "Masukkan lebar persegi panjang: 30\n",
            " \n",
            "Luas persegi panjang:  450.0\n",
            "Keliling persegi panjang:  90.0\n"
          ]
        }
      ]
    },
    {
      "cell_type": "markdown",
      "source": [
        "Pada program diatas terdapat program untuk mencari \n",
        "(segitiga, persegi dan persegi panjang) \n",
        "\n",
        "untuk program segitiga terdapat variabel \n",
        "alas, tinggi, sisi1, sisi2 \n",
        "\n",
        "untuk program persegi terdapat variabel \n",
        "sisi \n",
        "\n",
        "untuk program persegi panjang terdapat variabel \n",
        "panjang, lebar, luas , keliling\n"
      ],
      "metadata": {
        "id": "Lezky06xTp_E"
      }
    },
    {
      "cell_type": "code",
      "source": [
        "#Latihan 2\n",
        "sisi1 = float(input(\"Masukkan panjang sisi pertama: \"))\n",
        "sisi2 = float(input(\"Masukkan panjang sisi kedua: \"))\n",
        "sisi3 = float(input(\"Masukkan panjang sisi ketiga: \"))\n",
        "sisi4 = float(input(\"Masukkan panjang sisi keempat: \"))\n",
        "\n",
        "if sisi1 == sisi2 and sisi2 == sisi3 == sisi4:\n",
        "  print(\"True\")\n",
        "else:\n",
        "  print(\"False\")"
      ],
      "metadata": {
        "colab": {
          "base_uri": "https://localhost:8080/"
        },
        "id": "Wm3DF8p9U26E",
        "outputId": "bf21b3cb-1c5e-4015-9f25-503d277eab80"
      },
      "execution_count": null,
      "outputs": [
        {
          "output_type": "stream",
          "name": "stdout",
          "text": [
            "Masukkan panjang sisi pertama: 20\n",
            "Masukkan panjang sisi kedua: 30\n",
            "Masukkan panjang sisi ketiga: 20\n",
            "Masukkan panjang sisi keempat: 30\n",
            "False\n"
          ]
        }
      ]
    },
    {
      "cell_type": "markdown",
      "source": [
        "pada program ini menentukan persegi, akan menghasilkan nilai benar jika nilai sisinya sama \n",
        "dan salah jika berbeda\n"
      ],
      "metadata": {
        "id": "CKtT9KeAVmmZ"
      }
    }
  ]
}