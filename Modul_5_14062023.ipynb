{
  "nbformat": 4,
  "nbformat_minor": 0,
  "metadata": {
    "colab": {
      "provenance": [],
      "collapsed_sections": [
        "oXeW1WLTqDhz",
        "Mj--QfIFqzNj",
        "09-RXpZ3rhjq",
        "xLsprkGksJx6",
        "ATcF4ugotT7a",
        "WODBfhzouPa5",
        "KyVQHez_vNuw",
        "jli2n9QOvl-4",
        "p7zbnCkfv9ho",
        "yzYKyoLt4pHh",
        "_AH2mFdh5L3N",
        "ou2Ld9_O6m4w",
        "1zgL-1kN9ONn",
        "4MnME5BNZZ3S",
        "MDw3KvW2ZhcS"
      ],
      "authorship_tag": "ABX9TyPJbH3jHvU7WnEOYuEz472l",
      "include_colab_link": true
    },
    "kernelspec": {
      "name": "python3",
      "display_name": "Python 3"
    },
    "language_info": {
      "name": "python"
    }
  },
  "cells": [
    {
      "cell_type": "markdown",
      "metadata": {
        "id": "view-in-github",
        "colab_type": "text"
      },
      "source": [
        "<a href=\"https://colab.research.google.com/github/kevinardani/PBO/blob/main/Modul_5_14062023.ipynb\" target=\"_parent\"><img src=\"https://colab.research.google.com/assets/colab-badge.svg\" alt=\"Open In Colab\"/></a>"
      ]
    },
    {
      "cell_type": "markdown",
      "source": [
        "#Modul 5 Percabangan\n",
        "    Proses penentuan keputusan\n",
        "    dalam bahasa inggris disebut\n",
        "    conditional statement. Percabangan digunakan\n",
        "    ketika terdapat 2 kondisi pilihan\n"
      ],
      "metadata": {
        "id": "p5FrqbSDowkr"
      }
    },
    {
      "cell_type": "markdown",
      "source": [
        "##5.3.1 Program membandingkan 2 bilangan dengan if"
      ],
      "metadata": {
        "id": "oXeW1WLTqDhz"
      }
    },
    {
      "cell_type": "code",
      "source": [
        "a = int (input('Masukkan nilai a: '))\n",
        "b = int (input('Masukkan nilai b: '))\n",
        "\n",
        "if(a > b):\n",
        "    print('a Lebih Besar Dari b')\n",
        "if(b > a):\n",
        "    print('b Lebih Besar Dari a')"
      ],
      "metadata": {
        "colab": {
          "base_uri": "https://localhost:8080/"
        },
        "id": "0s83C28zp8Rt",
        "outputId": "08029ad1-1874-4d85-cc38-a41bc803032a"
      },
      "execution_count": null,
      "outputs": [
        {
          "output_type": "stream",
          "name": "stdout",
          "text": [
            "Masukkan nilai a: 20\n",
            "Masukkan nilai b: 11\n",
            "a Lebih Besar Dari b\n"
          ]
        }
      ]
    },
    {
      "cell_type": "markdown",
      "source": [
        "##5.3.2 Program Membandingkan 2 bilangan dengan if else"
      ],
      "metadata": {
        "id": "Mj--QfIFqzNj"
      }
    },
    {
      "cell_type": "code",
      "source": [
        "a = int(input('Masukkan nilai a: '))\n",
        "b = int(input('Masukkan nilai b: '))\n",
        "\n",
        "if(a > b):\n",
        "  print('a Lebih Besar Dari b')\n",
        "else:\n",
        "  print('b Lebih Besar Dari a')"
      ],
      "metadata": {
        "colab": {
          "base_uri": "https://localhost:8080/"
        },
        "id": "N54C9Z-srCSi",
        "outputId": "332f3050-475b-40b0-a4b1-1a643e6798df"
      },
      "execution_count": null,
      "outputs": [
        {
          "output_type": "stream",
          "name": "stdout",
          "text": [
            "Masukkan nilai a: 12\n",
            "Masukkan nilai b: 22\n",
            "b Lebih Besar Dari a\n"
          ]
        }
      ]
    },
    {
      "cell_type": "markdown",
      "source": [
        "##5.3.3 Program konversi angka ke huruf"
      ],
      "metadata": {
        "id": "09-RXpZ3rhjq"
      }
    },
    {
      "cell_type": "code",
      "source": [
        "nilai = int(input('Masukkan nilai: '))\n",
        "if nilai >= 90:\n",
        "  print('Predikat A')\n",
        "elif nilai >=80:\n",
        "  print('Predikat B')\n",
        "elif nilai >=60:\n",
        "  print('Predikat C')\n",
        "elif nilai >=40:\n",
        "  print('Predikat D')\n",
        "else:\n",
        "  print('Predikat E')"
      ],
      "metadata": {
        "colab": {
          "base_uri": "https://localhost:8080/"
        },
        "id": "abl7-Zizroyc",
        "outputId": "e5934948-6665-495f-a1da-56da88744733"
      },
      "execution_count": null,
      "outputs": [
        {
          "output_type": "stream",
          "name": "stdout",
          "text": [
            "Masukkan nilai: 92\n",
            "Predikat A\n"
          ]
        }
      ]
    },
    {
      "cell_type": "markdown",
      "source": [
        "##5.3.4 Program if else dengan String Sebagai atribut"
      ],
      "metadata": {
        "id": "xLsprkGksJx6"
      }
    },
    {
      "cell_type": "code",
      "source": [
        "buah_yang_tersedia = ['jeruk', 'mangga', 'melon']\n",
        "buah_yang_dicari = input('Masukkan nama buah dalam huruf kecil: ')\n",
        "if (buah_yang_dicari in buah_yang_tersedia):\n",
        "  print('Buah yang anda cari tersedia!')\n",
        "else:\n",
        "  print('Buah yang anda cari tidak tersedia!')"
      ],
      "metadata": {
        "colab": {
          "base_uri": "https://localhost:8080/"
        },
        "id": "7F0qjwlrsSDz",
        "outputId": "e3baafee-d631-4884-dce7-0b9174bf9c28"
      },
      "execution_count": null,
      "outputs": [
        {
          "output_type": "stream",
          "name": "stdout",
          "text": [
            "Masukkan nama buah dalam huruf kecil: melon\n",
            "Buah yang anda cari tersedia!\n"
          ]
        }
      ]
    },
    {
      "cell_type": "markdown",
      "source": [
        "##5.3.5 Program perbandingan umur dengan if else bertingkat"
      ],
      "metadata": {
        "id": "ATcF4ugotT7a"
      }
    },
    {
      "cell_type": "code",
      "source": [
        "nilai = int(input('Masukkan nilai: '))\n",
        "usia = int(input('Masukkan usia: '))\n",
        "if nilai >= 75:\n",
        "  if (usia < 15):\n",
        "    print('Selamat adek, kamu lulus!')\n",
        "  else:\n",
        "    print('Selamat Kakak, kamu lulus!')\n",
        "else:\n",
        "  if (usia < 15):\n",
        "    print('Mohon maaf dek, coba lagi ya!')\n",
        "  else:\n",
        "    print('Mohon maaf kak, coba lagi ya!')"
      ],
      "metadata": {
        "colab": {
          "base_uri": "https://localhost:8080/"
        },
        "id": "ZDziGELotaAC",
        "outputId": "05bae1cd-7ae8-4f4c-8a92-66f29fd7f905"
      },
      "execution_count": null,
      "outputs": [
        {
          "output_type": "stream",
          "name": "stdout",
          "text": [
            "Masukkan nilai: 90\n",
            "Masukkan usia: 14\n",
            "Selamat adek, kamu lulus!\n"
          ]
        }
      ]
    },
    {
      "cell_type": "markdown",
      "source": [
        "##5.3.6 Program membandingkan 3 buah data"
      ],
      "metadata": {
        "id": "WODBfhzouPa5"
      }
    },
    {
      "cell_type": "code",
      "source": [
        "a = int(input('Masukkan nilai a: '))\n",
        "b = int(input('Masukkan nilai b: '))\n",
        "c = int(input('Masukkan nilai c: '))\n",
        "if a > b and a > c:\n",
        "  print('A yang terbesar')\n",
        "elif b > a and b > c:\n",
        "  print('B yang terbesar')\n",
        "else:\n",
        "  print('C yang terbesar')"
      ],
      "metadata": {
        "colab": {
          "base_uri": "https://localhost:8080/"
        },
        "id": "MIXjeStUuTKQ",
        "outputId": "6793cae6-7057-4c2d-e352-52e65f4ac78a"
      },
      "execution_count": null,
      "outputs": [
        {
          "output_type": "stream",
          "name": "stdout",
          "text": [
            "Masukkan nilai a: 50\n",
            "Masukkan nilai b: 70\n",
            "Masukkan nilai c: 90\n",
            "C yang terbesar\n"
          ]
        }
      ]
    },
    {
      "cell_type": "markdown",
      "source": [
        "##5.3.7 Program mencari bilangan terkecil\n"
      ],
      "metadata": {
        "id": "KyVQHez_vNuw"
      }
    },
    {
      "cell_type": "code",
      "source": [
        "a = int(input('Masukkan nilai a: '))\n",
        "b = int(input('Masukkan nilai b: '))\n",
        "c = int(input('Masukkan nilai c: '))\n",
        "if a < b and a < c:\n",
        "  print('A yang terkecil')\n",
        "elif b < a and b < c:\n",
        "  print('B yang terkecil')\n",
        "else:\n",
        "  print('C yang terkecil')"
      ],
      "metadata": {
        "colab": {
          "base_uri": "https://localhost:8080/"
        },
        "id": "_LZbqcxlvS5h",
        "outputId": "59f2196c-34e3-42e1-ae4c-aab2961c4b5e"
      },
      "execution_count": null,
      "outputs": [
        {
          "output_type": "stream",
          "name": "stdout",
          "text": [
            "Masukkan nilai a: 90\n",
            "Masukkan nilai b: 60\n",
            "Masukkan nilai c: 50\n",
            "C yang terkecil\n"
          ]
        }
      ]
    },
    {
      "cell_type": "markdown",
      "source": [
        "##5.3.8 Program mencari nilai tengah"
      ],
      "metadata": {
        "id": "jli2n9QOvl-4"
      }
    },
    {
      "cell_type": "code",
      "source": [
        "a = int(input('Masukkan nilai a: '))\n",
        "b = int(input('Masukkan nilai b: '))\n",
        "c = int(input('Masukkan nilai c: '))\n",
        "if (b > a > c) or (c > a > b):\n",
        "  print('A adalah nilai tengah')\n",
        "elif b < a and b < c:\n",
        "  print('B adalah nilai tengah')\n",
        "else:\n",
        "  print('C adalah nilai tengah')"
      ],
      "metadata": {
        "colab": {
          "base_uri": "https://localhost:8080/"
        },
        "id": "31bFw4nDvr0_",
        "outputId": "4d1a18e5-50f1-4877-b779-9d9dfae071a7"
      },
      "execution_count": null,
      "outputs": [
        {
          "output_type": "stream",
          "name": "stdout",
          "text": [
            "Masukkan nilai a: 50\n",
            "Masukkan nilai b: 60\n",
            "Masukkan nilai c: 40\n",
            "A adalah nilai tengah\n"
          ]
        }
      ]
    },
    {
      "cell_type": "markdown",
      "source": [
        "##5.3.9 Program mengurutkan bilangan dari kecil ke besar"
      ],
      "metadata": {
        "id": "p7zbnCkfv9ho"
      }
    },
    {
      "cell_type": "code",
      "source": [
        "def angka_terbesar(a, b , c):\n",
        "  if a > b and a > c:\n",
        "    return a\n",
        "  elif b > a and b > c:\n",
        "    return b\n",
        "\n",
        "  return c\n",
        "\n",
        "def angka_terkecil(a, b, c):\n",
        "  if a < b and a < c:\n",
        "    return a\n",
        "  elif b < a and b < c:\n",
        "    return b\n",
        "\n",
        "  return c\n",
        "\n",
        "def nilai_tengah(a, b, c):\n",
        "  if (b > a > c) or ( c > a > b):\n",
        "    return a\n",
        "  elif (a > b > c) or (c > b > a):\n",
        "    return b\n",
        "\n",
        "  return c\n",
        "\n",
        "a, b, c = (\n",
        "    int(input('Masukkan nilai a :')),\n",
        "    int(input('Masukkan nilai b :')),\n",
        "    int(input('Masukkan nilai c :'))\n",
        ")\n",
        "\n",
        "i1 = angka_terkecil(a, b, c)\n",
        "i2 = nilai_tengah(a, b, c)\n",
        "i3 = angka_terbesar(a, b, c)\n",
        "\n",
        "print(f'Urutan: {i1}, {i2}, {i3}')"
      ],
      "metadata": {
        "colab": {
          "base_uri": "https://localhost:8080/"
        },
        "id": "hro-sKugwBuY",
        "outputId": "6a481950-edb1-4aa5-f7ea-2165d21c23b0"
      },
      "execution_count": null,
      "outputs": [
        {
          "output_type": "stream",
          "name": "stdout",
          "text": [
            "Masukkan nilai a :25\n",
            "Masukkan nilai b :30\n",
            "Masukkan nilai c :51\n",
            "Urutan: 25, 30, 51\n"
          ]
        }
      ]
    },
    {
      "cell_type": "markdown",
      "source": [
        "##5.3.10 Program Konversi bilangan\n"
      ],
      "metadata": {
        "id": "yzYKyoLt4pHh"
      }
    },
    {
      "cell_type": "code",
      "source": [
        "jumlah_barang = int(input('Masukkan jumlah barang'))\n",
        "satuan_lusin = jumlah_barang / 12\n",
        "if satuan_lusin % 1 == 0:\n",
        "  satuan_lusin = int(satuan_lusin)\n",
        "print(f'{jumlah_barang} = {satuan_lusin} lusin')\n"
      ],
      "metadata": {
        "colab": {
          "base_uri": "https://localhost:8080/"
        },
        "id": "mz46dCcG4tML",
        "outputId": "ff6e7f87-6503-45f1-ff88-5da93a4b2409"
      },
      "execution_count": null,
      "outputs": [
        {
          "output_type": "stream",
          "name": "stdout",
          "text": [
            "Masukkan jumlah barang5\n",
            "5 = 0.4166666666666667 lusin\n"
          ]
        }
      ]
    },
    {
      "cell_type": "markdown",
      "source": [
        "##5.3.11 Program konversi 3 satuan"
      ],
      "metadata": {
        "id": "_AH2mFdh5L3N"
      }
    },
    {
      "cell_type": "code",
      "source": [
        "jumlah_barang = int(input('Masukkan jumlah barang: '))\n",
        "satuan_lusin = round(jumlah_barang / 12, 2)\n",
        "satuan_kodi = round(jumlah_barang / 20, 2)\n",
        "satuan_gross = round(jumlah_barang / 144, 2)\n",
        "if satuan_lusin % 1 == 0:\n",
        "  satuan_lusin = int(satuan_lusin)\n",
        "if satuan_kodi % 1 == 0:\n",
        "  satuan_kodi = int(satuan_kodi)\n",
        "if satuan_gross % 1 == 0:\n",
        "  satuan_gross = int(satuan_gross)\n",
        "\n",
        "print(f'{jumlah_barang} = {satuan_lusin} lusin')\n",
        "print(f'{jumlah_barang} = {satuan_kodi} kodi')\n",
        "print(f'{jumlah_barang} = {satuan_gross} gross')\n"
      ],
      "metadata": {
        "colab": {
          "base_uri": "https://localhost:8080/"
        },
        "id": "U063JL6B5QSH",
        "outputId": "577efe19-c5f8-4e5c-82fc-61e6e8a98441"
      },
      "execution_count": null,
      "outputs": [
        {
          "output_type": "stream",
          "name": "stdout",
          "text": [
            "Masukkan jumlah barang: 5\n",
            "5 = 0.42 lusin\n",
            "5 = 0.25 kodi\n",
            "5 = 0.03 gross\n"
          ]
        }
      ]
    },
    {
      "cell_type": "markdown",
      "source": [
        "##5.3.12 Program memilih perhitungan"
      ],
      "metadata": {
        "id": "ou2Ld9_O6m4w"
      }
    },
    {
      "cell_type": "code",
      "source": [
        "print('=' * 25)\n",
        "print('Operasi Matematika')\n",
        "print(' 1. Jumlah \\t [+]')\n",
        "print(' 2. Kurang \\t [-]')\n",
        "print(' 3. Kali \\t [*]')\n",
        "print(' 4. Bagi \\t [/]')\n",
        "print('=' * 25)\n",
        "operasi = input('Pilih operasi {1/2/3/4}: ')\n",
        "bilangan_1 = eval(input('Masukkan bilangan pertama: '))\n",
        "bilangan_2 = eval(input('Masukkan bilangan kedua: '))\n",
        "if operasi == '1':\n",
        "  print('User memilih penjumlahan')\n",
        "elif operasi == '2':\n",
        "  print('User memilih pengurangan')\n",
        "elif operasi == '3':\n",
        "  print('User memilih perkalian')\n",
        "elif operasi == '4':\n",
        "  print('User Memilih pembagian')\n",
        "else:\n",
        "  print('Tidak valid')\n"
      ],
      "metadata": {
        "colab": {
          "base_uri": "https://localhost:8080/"
        },
        "id": "BmL0tmch6tKS",
        "outputId": "6749186a-029d-497b-8928-7d6a471a46af"
      },
      "execution_count": null,
      "outputs": [
        {
          "output_type": "stream",
          "name": "stdout",
          "text": [
            "=========================\n",
            "Operasi Matematika\n",
            " 1. Jumlah \t [+]\n",
            " 2. Kurang \t [-]\n",
            " 3. Kali \t [*]\n",
            " 4. Bagi \t [/]\n",
            "=========================\n",
            "Pilih operasi {1/2/3/4}: 2\n",
            "Masukkan bilangan pertama: 52\n",
            "Masukkan bilangan kedua: 80\n",
            "User memilih pengurangan\n"
          ]
        }
      ]
    },
    {
      "cell_type": "markdown",
      "source": [
        "## 5.4 Latihan"
      ],
      "metadata": {
        "id": "1zgL-1kN9ONn"
      }
    },
    {
      "cell_type": "markdown",
      "source": [
        "Latihan 1"
      ],
      "metadata": {
        "id": "SqQ80JZ9euUy"
      }
    },
    {
      "cell_type": "code",
      "source": [
        "def cek_bilangan():\n",
        "    bilangan = int(input(\"Masukkan bilangan: \"))\n",
        "\n",
        "    if bilangan % 2 == 0:\n",
        "        print(f\"{bilangan} adalah bilangan genap.\")\n",
        "    else:\n",
        "        print(f\"{bilangan} adalah bilangan ganjil.\")\n",
        "\n",
        "cek_bilangan()\n",
        "\n",
        "def cek_tahun():\n",
        "    tahun = int(input(\"Masukkan tahun: \"))\n",
        "\n",
        "    if tahun % 4 == 0 and (tahun % 100 != 0 or tahun % 400 == 0):\n",
        "        print(f\"{tahun} adalah tahun kabisat.\")\n",
        "    else:\n",
        "        print(f\"{tahun} bukan tahun kabisat.\")\n",
        "\n",
        "cek_tahun()\n",
        "\n",
        "def hitung_tegangan():\n",
        "    I = float(input(\"Masukkan nilai arus (A): \"))\n",
        "    R = float(input(\"Masukkan nilai resistansi (ohm): \"))\n",
        "    V = I * R\n",
        "    print(f\"Tegangan (V) = {V} Volt\")\n",
        "\n",
        "def hitung_daya():\n",
        "    V = float(input(\"Masukkan nilai tegangan (V): \"))\n",
        "    I = float(input(\"Masukkan nilai arus (A): \"))\n",
        "    P = V * I\n",
        "    print(f\"Daya (P) = {P} Watt\")\n",
        "\n",
        "def pilihan_perhitungan():\n",
        "    print(\"Pilih perhitungan yang ingin Anda lakukan:\")\n",
        "    print(\"1. Perhitungan Tegangan\")\n",
        "    print(\"2. Perhitungan Daya\")\n",
        "    pilihan = int(input(\"Masukkan pilihan (1/2): \"))\n",
        "\n",
        "    if pilihan == 1:\n",
        "        hitung_tegangan()\n",
        "    elif pilihan == 2:\n",
        "        hitung_daya()\n",
        "    else:\n",
        "        print(\"Pilihan tidak valid.\")\n",
        "pilihan_perhitungan()"
      ],
      "metadata": {
        "colab": {
          "base_uri": "https://localhost:8080/"
        },
        "id": "le_Ir7yodYYh",
        "outputId": "cc00a6e6-90e3-419f-f1e9-51b87288d090"
      },
      "execution_count": null,
      "outputs": [
        {
          "output_type": "stream",
          "name": "stdout",
          "text": [
            "Latihan\n",
            "-----1------\n",
            "Masukkan bilangan: 20\n",
            "20 adalah bilangan genap.\n",
            "\n",
            "Latihan\n",
            "-----2-----\n",
            "Masukkan tahun: 2010\n",
            "2010 bukan tahun kabisat.\n",
            "\n",
            "Latihan\n",
            "----3.A-----\n",
            "\n",
            "Latihan\n",
            "----4.A----\n",
            "Pilih perhitungan yang ingin Anda lakukan:\n",
            "1. Perhitungan Tegangan\n",
            "2. Perhitungan Daya\n",
            "Masukkan pilihan (1/2): 2\n",
            "Masukkan nilai tegangan (V): 28\n",
            "Masukkan nilai arus (A): 9\n",
            "Daya (P) = 252.0 Watt\n"
          ]
        }
      ]
    },
    {
      "cell_type": "markdown",
      "source": [
        "#Kondisi"
      ],
      "metadata": {
        "id": "4MnME5BNZZ3S"
      }
    },
    {
      "cell_type": "code",
      "execution_count": null,
      "metadata": {
        "colab": {
          "base_uri": "https://localhost:8080/"
        },
        "id": "Rx5hU75KRNAT",
        "outputId": "5632196b-0b2a-48b8-9a76-92a8942bc435"
      },
      "outputs": [
        {
          "output_type": "stream",
          "name": "stdout",
          "text": [
            "5 kecil dari 7\n"
          ]
        }
      ],
      "source": [
        "nilai=5\n",
        "if (nilai > 7):\n",
        "  print(nilai, \"besar dari 7\")\n",
        "else:\n",
        "  print(nilai, \"kecil dari 7\")"
      ]
    },
    {
      "cell_type": "code",
      "source": [
        "nilai=9\n",
        "if(nilai > 7):\n",
        "  print(nilai, \"Selamat anda lulus\")\n",
        "else:\n",
        "  print(nilai, \"Maaf anda tidak lulus\")"
      ],
      "metadata": {
        "colab": {
          "base_uri": "https://localhost:8080/"
        },
        "id": "-JU4upFxSa7F",
        "outputId": "53799a40-5435-4792-fe8a-b20699a97e58"
      },
      "execution_count": null,
      "outputs": [
        {
          "output_type": "stream",
          "name": "stdout",
          "text": [
            "9 Selamat anda lulus\n"
          ]
        }
      ]
    },
    {
      "cell_type": "code",
      "source": [
        "angka=10\n",
        "if(angka>0 and angka<5):\n",
        "  print(\"angka di antara bilangan 1 dan 4\")\n",
        "elif(angka>=5 and angka<10):\n",
        "  print(\"angka diantara 5 dan 9 \")\n",
        "elif(angka>=10 and angka<15):\n",
        "  print(\"angka diantara 10 dan 14\")\n",
        "else:\n",
        "  print(\"angka besar dari 14\")"
      ],
      "metadata": {
        "colab": {
          "base_uri": "https://localhost:8080/"
        },
        "id": "8zrn88TASqq1",
        "outputId": "8a1e7277-9b2d-454e-d6fb-16ff890ad5d8"
      },
      "execution_count": null,
      "outputs": [
        {
          "output_type": "stream",
          "name": "stdout",
          "text": [
            "angka diantara 10 dan 14\n"
          ]
        }
      ]
    },
    {
      "cell_type": "code",
      "source": [
        "angka=int(input(\"Masukkkang angka: \"))\n",
        "if(angka>0 and angka<5):\n",
        "  print(\"angka di antara bilangan 1 dan 4\")\n",
        "elif(angka>=5 and angka<10):\n",
        "  print(\"angka diantara 5 dan 9 \")\n",
        "elif(angka>=10 and angka<15):\n",
        "  print(\"angka diantara 10 dan 14\")\n",
        "else:\n",
        "  print(\"angka besar dari 14\")"
      ],
      "metadata": {
        "colab": {
          "base_uri": "https://localhost:8080/"
        },
        "id": "fSi1KbwxTs-F",
        "outputId": "285035ec-f232-45e3-cdb0-ba71e66bb969"
      },
      "execution_count": null,
      "outputs": [
        {
          "output_type": "stream",
          "name": "stdout",
          "text": [
            "Masukkkang angka: 20\n",
            "angka besar dari 14\n"
          ]
        }
      ]
    },
    {
      "cell_type": "code",
      "source": [
        "matkul=input(\"Masukkan mata kuliah: \")\n",
        "nilai=int(input(\"Masukkan Nilai: \"))\n",
        "if(nilai>0 and nilai<=100):\n",
        "  if(nilai> 81 and nilai <100):\n",
        "    print(\" Selamat anda mendapatkan Nilai A \")\n",
        "  elif(nilai > 76 and nilai <80):\n",
        "    print(\" Nilai anda AB \")\n",
        "  elif(nilai > 66 and nilai <75):\n",
        "    print(\" Nilai anda B \")\n",
        "  elif(nilai > 61 and nilai <65):\n",
        "    print(\" Nilai anda BC \")\n",
        "  elif(nilai > 51 and nilai <60):\n",
        "    print(\" Nilai anda C \")\n",
        "\n",
        "else:\n",
        "  print(\" Maaf anda mendapatakan F \")"
      ],
      "metadata": {
        "colab": {
          "base_uri": "https://localhost:8080/"
        },
        "id": "imKv-sqJUST0",
        "outputId": "7b2d6858-9805-46e7-ac94-9d22565d3b45"
      },
      "execution_count": null,
      "outputs": [
        {
          "output_type": "stream",
          "name": "stdout",
          "text": [
            "Masukkan mata kuliah: PBO\n",
            "Masukkan Nilai: 91\n",
            " Selamat anda mendapatkan Nilai A \n"
          ]
        }
      ]
    },
    {
      "cell_type": "code",
      "source": [
        "count = 0\n",
        "while (count <=9):\n",
        "  print(\"Nilai anda adalah: \", count)\n",
        "  count = count + 1\n",
        "\n",
        "print(\"Good Bye!\")"
      ],
      "metadata": {
        "colab": {
          "base_uri": "https://localhost:8080/"
        },
        "id": "Y31iton7Wle0",
        "outputId": "cb29da7a-3b3f-43b0-c266-f89c0712d3b0"
      },
      "execution_count": null,
      "outputs": [
        {
          "output_type": "stream",
          "name": "stdout",
          "text": [
            "Nilai anda adalah:  0\n",
            "Nilai anda adalah:  1\n",
            "Nilai anda adalah:  2\n",
            "Nilai anda adalah:  3\n",
            "Nilai anda adalah:  4\n",
            "Nilai anda adalah:  5\n",
            "Nilai anda adalah:  6\n",
            "Nilai anda adalah:  7\n",
            "Nilai anda adalah:  8\n",
            "Nilai anda adalah:  9\n",
            "Good Bye!\n"
          ]
        }
      ]
    },
    {
      "cell_type": "markdown",
      "source": [
        "#Perulangan"
      ],
      "metadata": {
        "id": "MDw3KvW2ZhcS"
      }
    },
    {
      "cell_type": "code",
      "source": [
        "##Bilangan genap kelipatan 2\n",
        "for i in range(2,12,2):\n",
        "  print('i =', i)"
      ],
      "metadata": {
        "colab": {
          "base_uri": "https://localhost:8080/"
        },
        "id": "HecqD0y2Zkcy",
        "outputId": "f6bb0a00-becd-4c3b-e683-c847af2a005d"
      },
      "execution_count": null,
      "outputs": [
        {
          "output_type": "stream",
          "name": "stdout",
          "text": [
            "i = 2\n",
            "i = 4\n",
            "i = 6\n",
            "i = 8\n",
            "i = 10\n"
          ]
        }
      ]
    },
    {
      "cell_type": "code",
      "source": [
        "##Bilangan ganjil kelipatan 2\n",
        "for bilangan_ganjil in range(1,12,2):\n",
        "  print(bilangan_ganjil)"
      ],
      "metadata": {
        "colab": {
          "base_uri": "https://localhost:8080/"
        },
        "id": "BCITsyY8bW6x",
        "outputId": "ae736caf-c6ba-489c-8206-a55266a60ed4"
      },
      "execution_count": null,
      "outputs": [
        {
          "output_type": "stream",
          "name": "stdout",
          "text": [
            "1\n",
            "3\n",
            "5\n",
            "7\n",
            "9\n",
            "11\n"
          ]
        }
      ]
    },
    {
      "cell_type": "code",
      "source": [
        "for i in range (0,9,2):\n",
        "  print(\"Perulangan ke: i\",i)"
      ],
      "metadata": {
        "colab": {
          "base_uri": "https://localhost:8080/"
        },
        "id": "OdMRIxTecUqx",
        "outputId": "bb9f7b4b-6f89-4d79-ef3e-d13491875c86"
      },
      "execution_count": null,
      "outputs": [
        {
          "output_type": "stream",
          "name": "stdout",
          "text": [
            "Perulangan ke: i 0\n",
            "Perulangan ke: i 2\n",
            "Perulangan ke: i 4\n",
            "Perulangan ke: i 6\n",
            "Perulangan ke: i 8\n"
          ]
        }
      ]
    },
    {
      "cell_type": "code",
      "source": [
        "#Membuat list python\n",
        "list1 = ['Kimia', 'Fisika', 1993, 2017]\n",
        "list2 = [1, 2, 3, 4, 5]\n",
        "list3 = [\"a\", \"b\", \"c\", \"d\",]"
      ],
      "metadata": {
        "id": "yU5MoUmNeOzA"
      },
      "execution_count": null,
      "outputs": []
    },
    {
      "cell_type": "code",
      "source": [
        "#Prima\n",
        "\n",
        "print('##  Program Python Cek Angka Prima  ##')\n",
        "print('======================================')\n",
        "print()\n",
        "\n",
        "x = int(input('Input satu angka bulat: '))\n",
        "\n",
        "angka_prima = True\n",
        "if((x == 0) or (x == 1)):\n",
        "  angka_prima = False\n",
        "else:\n",
        "  for i in range(2,(x//2)):\n",
        "    if ((x % i) == 0):\n",
        "       angka_prima = False\n",
        "       break\n",
        "\n",
        "if(angka_prima):\n",
        "  print(x,'adalah angka prima')\n",
        "else:\n",
        "  print(x,'bukan angka prima')"
      ],
      "metadata": {
        "colab": {
          "base_uri": "https://localhost:8080/"
        },
        "id": "C0WCLn05fJEP",
        "outputId": "576e0fb2-198c-4b0d-ea9c-39db5c116112"
      },
      "execution_count": null,
      "outputs": [
        {
          "output_type": "stream",
          "name": "stdout",
          "text": [
            "##  Program Python Cek Angka Prima  ##\n",
            "======================================\n",
            "\n",
            "Input satu angka bulat: 7\n",
            "7 adalah angka prima\n"
          ]
        }
      ]
    },
    {
      "cell_type": "code",
      "source": [
        "for prima in range (2, 100):\n",
        "  for i in range (2, prima):\n",
        "    if (prima % i) == 0:\n",
        "      break\n",
        "  else:\n",
        "    print(prima)"
      ],
      "metadata": {
        "colab": {
          "base_uri": "https://localhost:8080/"
        },
        "id": "RUtZe1DDjEKG",
        "outputId": "259a4910-ffa9-4ceb-a6c8-a7ee4e5fccfc"
      },
      "execution_count": null,
      "outputs": [
        {
          "output_type": "stream",
          "name": "stdout",
          "text": [
            "2\n",
            "3\n",
            "5\n",
            "7\n",
            "11\n",
            "13\n",
            "17\n",
            "19\n",
            "23\n",
            "29\n",
            "31\n",
            "37\n",
            "41\n",
            "43\n",
            "47\n",
            "53\n",
            "59\n",
            "61\n",
            "67\n",
            "71\n",
            "73\n",
            "79\n",
            "83\n",
            "89\n",
            "97\n"
          ]
        }
      ]
    }
  ]
}